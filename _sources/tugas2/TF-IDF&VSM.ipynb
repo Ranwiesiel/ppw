{
 "cells": [
  {
   "cell_type": "markdown",
   "metadata": {},
   "source": [
    "# TF-IDF & Vector Space Model\n"
   ]
  },
  {
   "cell_type": "markdown",
   "metadata": {},
   "source": [
    "## Apa itu VSM (Vector Space Model)\n"
   ]
  },
  {
   "cell_type": "markdown",
   "metadata": {},
   "source": [
    "Vector Space Model (VSM) adalah kerangka kerja matriks yang digunakan dalam temu kembali informasi dan pemrosesan bahasa alami (NLP) untuk merepresentasikan dan menganalisis data visual. VSM sangat penting dalam penggalian teks, pencarian dokumen, dan tugas-tugas pembelajaran mesin berbasis teks seperti klasifikasi dokumen, pencarian informasi, dan analisis kemiripan teks.\n"
   ]
  },
  {
   "cell_type": "markdown",
   "metadata": {},
   "source": [
    "![image.png](https://i0.wp.com/spotintelligence.com/wp-content/uploads/2023/09/vector-space-model.jpg?resize=960%2C540&ssl=1)\n"
   ]
  },
  {
   "cell_type": "markdown",
   "metadata": {},
   "source": [
    "Setiap dimensi berhubungan dengan term yang unik, sementara dokumen dan query dapat direpresentasikan sebagai vektor di dalam ruang tersebut.\n"
   ]
  },
  {
   "cell_type": "markdown",
   "metadata": {},
   "source": [
    "## Term Frequency-Inverse Document Frequency (TF-IDF)\n"
   ]
  },
  {
   "cell_type": "markdown",
   "metadata": {},
   "source": [
    "TF-IDF adalah singkatan dari Term Frequency Inverse Document Frequency. Hal ini dapat didefinisikan sebagai perhitungan seberapa relevan sebuah kata dalam kumpulan atau corpus terhadap sebuah teks. Nilai relevansi meningkat secara relatif terhadap berapa kali sebuah kata muncul di dalam teks, namun dikompensasi oleh frekuensi kata di dalam corpus (kumpulan data).\n"
   ]
  },
  {
   "cell_type": "markdown",
   "metadata": {},
   "source": [
    "## Term Frequency\n"
   ]
  },
  {
   "cell_type": "markdown",
   "metadata": {},
   "source": [
    "Pada dokumen d, frekuensi merepresentasikan jumlah kemunculan kata t. Oleh karena itu, kita dapat melihat bahwa frekuensi akan menjadi lebih relevan ketika sebuah kata muncul dalam teks, yang mana hal ini bersifat relatif. Karena urutan istilah tidak signifikan, kita dapat menggunakan vektor untuk mendeskripsikan teks dalam kumpulan model term. Untuk setiap istilah tertentu dalam teks, ada sebuah entri dengan nilai yang merupakan frekuensi term.\n"
   ]
  },
  {
   "cell_type": "markdown",
   "metadata": {},
   "source": [
    "**tf(t,d) = count of t in d / number of words in d**\n"
   ]
  },
  {
   "cell_type": "markdown",
   "metadata": {},
   "source": [
    "## Inverse Document Frequency\n"
   ]
  },
  {
   "cell_type": "markdown",
   "metadata": {},
   "source": [
    "Pada dasarnya, ini menguji seberapa relevan kata tersebut. Tujuan utama dari pencarian ini adalah untuk menemukan dokumen yang sesuai dengan pencarian. Karena tf menganggap semua istilah sama pentingnya, maka frekuensi term tidak hanya dapat digunakan untuk mengukur bobot term dalam dokumen. Pertama, cari frekuensi dokumen dari suatu istilah t dengan menghitung jumlah dokumen yang mengandung term tersebut:\n"
   ]
  },
  {
   "cell_type": "markdown",
   "metadata": {},
   "source": [
    "**idf(t) = log(N/ df(t))**\n"
   ]
  },
  {
   "cell_type": "markdown",
   "metadata": {},
   "source": [
    "Penjelasan:<br>\n",
    "**df(t)** = **N(t)**<br>\n",
    "dimana<br>\n",
    "**df(t)** = **Document frequency of a term t**<br>\n",
    "**N(t)** = **Number of documents containing the term t**<br>\n"
   ]
  },
  {
   "cell_type": "markdown",
   "metadata": {},
   "source": [
    "## TF-IDF (Term Frequency-Inverse Document Frequency)\n"
   ]
  },
  {
   "cell_type": "markdown",
   "metadata": {},
   "source": [
    "**tf-idf(t, d) = tf(t, d) \\* idf(t)**\n"
   ]
  },
  {
   "cell_type": "markdown",
   "metadata": {},
   "source": [
    "## Proses TF-IDF dan menjadikannya VSM (Vector Space Model)\n"
   ]
  },
  {
   "cell_type": "markdown",
   "metadata": {},
   "source": [
    "### Import Library/Tool yang dibutuhkan\n"
   ]
  },
  {
   "cell_type": "code",
   "execution_count": 15,
   "metadata": {},
   "outputs": [],
   "source": [
    "# Library untuk data manipulation\n",
    "import pandas as pd\n",
    "from tqdm import tqdm\n",
    "import re\n",
    "import string\n",
    "\n",
    "# Library untuk text preprocessing\n",
    "import nltk\n",
    "from Sastrawi.Stemmer.StemmerFactory import StemmerFactory\n",
    "from nltk.tokenize import word_tokenize\n",
    "from nltk.corpus import stopwords\n",
    "# nltk.download('stopwords')\n",
    "# nltk.download('punkt_tab')\n",
    "\n",
    "# Library untuk text vectorization/TF-IDF\n",
    "from sklearn.feature_extraction.text import TfidfVectorizer\n",
    "\n",
    "# Library untuk save model\n",
    "import pickle"
   ]
  },
  {
   "cell_type": "markdown",
   "metadata": {},
   "source": [
    "- **pandas** digunakan untuk membuat dataframe agar mudah dibaca.\n",
    "- **tqdm** Untuk mentracking proses program.\n",
    "- **re** (regular expression) digunakan untuk mengenali pola kata/kalimat.\n",
    "- **nltk** (natural language toolkit) berfungsi untuk melakukan proses yang berkaitan dengan bahasa (teks).\n",
    "- **sklearn** digunakan dalam pemrosesan data untuk kebutuhan machine learning atau data science. Dalam tugas ini, menggunakan TfidfTransformer untuk menghitung TF-IDF.\n",
    "- **sastrawi** berfungsi untuk membersihkan mengurangi kata-kata imbuhan menjadi kata basic (sastrawi untuk stemming bahasa Indonesia).\n",
    "- **pickle** unutk menyimpan model.\n"
   ]
  },
  {
   "cell_type": "markdown",
   "metadata": {},
   "source": [
    "### Import data berita CSV\n"
   ]
  },
  {
   "cell_type": "code",
   "execution_count": 16,
   "metadata": {},
   "outputs": [
    {
     "data": {
      "text/html": [
       "<div>\n",
       "<style scoped>\n",
       "    .dataframe tbody tr th:only-of-type {\n",
       "        vertical-align: middle;\n",
       "    }\n",
       "\n",
       "    .dataframe tbody tr th {\n",
       "        vertical-align: top;\n",
       "    }\n",
       "\n",
       "    .dataframe thead th {\n",
       "        text-align: right;\n",
       "    }\n",
       "</style>\n",
       "<table border=\"1\" class=\"dataframe\">\n",
       "  <thead>\n",
       "    <tr style=\"text-align: right;\">\n",
       "      <th></th>\n",
       "      <th>judul</th>\n",
       "      <th>tanggal</th>\n",
       "      <th>isi</th>\n",
       "      <th>kategori</th>\n",
       "    </tr>\n",
       "  </thead>\n",
       "  <tbody>\n",
       "    <tr>\n",
       "      <th>0</th>\n",
       "      <td>Putin Ungkap Tetap Bikin Ukraina Target Eksper...</td>\n",
       "      <td>Minggu, 24 Nov 2024 13:50 WIB</td>\n",
       "      <td>Presiden Rusia Vladimir Putin menyebut akan te...</td>\n",
       "      <td>internasional</td>\n",
       "    </tr>\n",
       "    <tr>\n",
       "      <th>1</th>\n",
       "      <td>VIDEO: Detik-detik Rudal Israel Hantam Masjid ...</td>\n",
       "      <td>Minggu, 24 Nov 2024 13:40 WIB</td>\n",
       "      <td>Rekaman menunjukkan detik-detik rudal Israel m...</td>\n",
       "      <td>internasional</td>\n",
       "    </tr>\n",
       "    <tr>\n",
       "      <th>2</th>\n",
       "      <td>RI-Australia Sepakat Tukar Tahanan Pelaku Jari...</td>\n",
       "      <td>Minggu, 24 Nov 2024 13:20 WIB</td>\n",
       "      <td>Australia menyebut Indonesia telah setuju untu...</td>\n",
       "      <td>internasional</td>\n",
       "    </tr>\n",
       "    <tr>\n",
       "      <th>3</th>\n",
       "      <td>Daftar Negara Anggota ICC yang Wajib Tangkap N...</td>\n",
       "      <td>Minggu, 24 Nov 2024 12:22 WIB</td>\n",
       "      <td>Mahkamah Kriminal Internasional (International...</td>\n",
       "      <td>internasional</td>\n",
       "    </tr>\n",
       "    <tr>\n",
       "      <th>4</th>\n",
       "      <td>RUDAL: Beda Zionisme, Yahudi, dan Antisemit ya...</td>\n",
       "      <td>Minggu, 24 Nov 2024 10:45 WIB</td>\n",
       "      <td>Agresi brutal Israel ke Jalur Gaza Palestina m...</td>\n",
       "      <td>internasional</td>\n",
       "    </tr>\n",
       "    <tr>\n",
       "      <th>...</th>\n",
       "      <td>...</td>\n",
       "      <td>...</td>\n",
       "      <td>...</td>\n",
       "      <td>...</td>\n",
       "    </tr>\n",
       "    <tr>\n",
       "      <th>95</th>\n",
       "      <td>Ahok Bersyukur Anak Abah-Ahoker Kompak Dukung ...</td>\n",
       "      <td>Sabtu, 23 Nov 2024 17:20 WIB</td>\n",
       "      <td>Mantan Gubernur DKI Jakarta Basuki Tjahaja Pur...</td>\n",
       "      <td>nasional</td>\n",
       "    </tr>\n",
       "    <tr>\n",
       "      <th>96</th>\n",
       "      <td>Ahok Hadiri Kampanye, Pramono Janji Tuntaskan ...</td>\n",
       "      <td>Sabtu, 23 Nov 2024 17:14 WIB</td>\n",
       "      <td>Calon Gubernur DKI Jakarta nomor urut 3 Pramon...</td>\n",
       "      <td>nasional</td>\n",
       "    </tr>\n",
       "    <tr>\n",
       "      <th>97</th>\n",
       "      <td>Sebelum Kampanye Terakhir, Cagub Ahmad Luthfi ...</td>\n",
       "      <td>Sabtu, 23 Nov 2024 17:08 WIB</td>\n",
       "      <td>Calon gubernur (cagub) Ahmad Luthfi berkesempa...</td>\n",
       "      <td>nasional</td>\n",
       "    </tr>\n",
       "    <tr>\n",
       "      <th>98</th>\n",
       "      <td>Kampanye Akbar RK-Suswono, Elite PKB dan NasDe...</td>\n",
       "      <td>Sabtu, 23 Nov 2024 16:54 WIB</td>\n",
       "      <td>Elite Partai NasDem dan PKB tak tampak hadir k...</td>\n",
       "      <td>nasional</td>\n",
       "    </tr>\n",
       "    <tr>\n",
       "      <th>99</th>\n",
       "      <td>Prabowo &amp; Albanese Disebut Sepakat Napi Bali N...</td>\n",
       "      <td>Sabtu, 23 Nov 2024 16:48 WIB</td>\n",
       "      <td>Presiden RI Prabowo Subianto dan Perdana Mente...</td>\n",
       "      <td>nasional</td>\n",
       "    </tr>\n",
       "  </tbody>\n",
       "</table>\n",
       "<p>100 rows × 4 columns</p>\n",
       "</div>"
      ],
      "text/plain": [
       "                                                judul  \\\n",
       "0   Putin Ungkap Tetap Bikin Ukraina Target Eksper...   \n",
       "1   VIDEO: Detik-detik Rudal Israel Hantam Masjid ...   \n",
       "2   RI-Australia Sepakat Tukar Tahanan Pelaku Jari...   \n",
       "3   Daftar Negara Anggota ICC yang Wajib Tangkap N...   \n",
       "4   RUDAL: Beda Zionisme, Yahudi, dan Antisemit ya...   \n",
       "..                                                ...   \n",
       "95  Ahok Bersyukur Anak Abah-Ahoker Kompak Dukung ...   \n",
       "96  Ahok Hadiri Kampanye, Pramono Janji Tuntaskan ...   \n",
       "97  Sebelum Kampanye Terakhir, Cagub Ahmad Luthfi ...   \n",
       "98  Kampanye Akbar RK-Suswono, Elite PKB dan NasDe...   \n",
       "99  Prabowo & Albanese Disebut Sepakat Napi Bali N...   \n",
       "\n",
       "                            tanggal  \\\n",
       "0    Minggu, 24 Nov 2024 13:50 WIB    \n",
       "1    Minggu, 24 Nov 2024 13:40 WIB    \n",
       "2    Minggu, 24 Nov 2024 13:20 WIB    \n",
       "3    Minggu, 24 Nov 2024 12:22 WIB    \n",
       "4    Minggu, 24 Nov 2024 10:45 WIB    \n",
       "..                              ...   \n",
       "95    Sabtu, 23 Nov 2024 17:20 WIB    \n",
       "96    Sabtu, 23 Nov 2024 17:14 WIB    \n",
       "97    Sabtu, 23 Nov 2024 17:08 WIB    \n",
       "98    Sabtu, 23 Nov 2024 16:54 WIB    \n",
       "99    Sabtu, 23 Nov 2024 16:48 WIB    \n",
       "\n",
       "                                                  isi       kategori  \n",
       "0   Presiden Rusia Vladimir Putin menyebut akan te...  internasional  \n",
       "1   Rekaman menunjukkan detik-detik rudal Israel m...  internasional  \n",
       "2   Australia menyebut Indonesia telah setuju untu...  internasional  \n",
       "3   Mahkamah Kriminal Internasional (International...  internasional  \n",
       "4   Agresi brutal Israel ke Jalur Gaza Palestina m...  internasional  \n",
       "..                                                ...            ...  \n",
       "95  Mantan Gubernur DKI Jakarta Basuki Tjahaja Pur...       nasional  \n",
       "96  Calon Gubernur DKI Jakarta nomor urut 3 Pramon...       nasional  \n",
       "97  Calon gubernur (cagub) Ahmad Luthfi berkesempa...       nasional  \n",
       "98  Elite Partai NasDem dan PKB tak tampak hadir k...       nasional  \n",
       "99  Presiden RI Prabowo Subianto dan Perdana Mente...       nasional  \n",
       "\n",
       "[100 rows x 4 columns]"
      ]
     },
     "execution_count": 16,
     "metadata": {},
     "output_type": "execute_result"
    }
   ],
   "source": [
    "data = pd.read_csv(\"../tugas1/data_100new.csv\")\n",
    "data.columns = data.columns.str.strip()\n",
    "data"
   ]
  },
  {
   "cell_type": "markdown",
   "metadata": {},
   "source": [
    "Import data berita csv yang telah disimpan sebelumnya,<br>\n",
    "dan membersihkan whitespace pada col header.\n"
   ]
  },
  {
   "cell_type": "markdown",
   "metadata": {},
   "source": [
    "### Mengacak data\n"
   ]
  },
  {
   "cell_type": "code",
   "execution_count": 17,
   "metadata": {},
   "outputs": [],
   "source": [
    "data = data.sample(frac = 1, ignore_index=True)"
   ]
  },
  {
   "cell_type": "markdown",
   "metadata": {},
   "source": [
    "Mengacak data yang sebelumnya berdasarkan kategori 50:50, menjadi acak-acak.\n"
   ]
  },
  {
   "cell_type": "markdown",
   "metadata": {},
   "source": [
    "### Fungsi clean_text()\n"
   ]
  },
  {
   "cell_type": "code",
   "execution_count": 18,
   "metadata": {},
   "outputs": [],
   "source": [
    "def clean_text(text):\n",
    "\ttext = re.sub(r'((www\\.[^\\s]+)|(https?://[^\\s]+))', ' ', text) # Menghapus https* and www*\n",
    "\ttext = re.sub(r'@[^\\s]+', ' ', text) # Menghapus username\n",
    "\ttext = re.sub(r'[\\s]+', ' ', text) # Menghapus tambahan spasi\n",
    "\ttext = re.sub(r'#([^\\s]+)', ' ', text) # Menghapus hashtags\n",
    "\ttext = re.sub(r'rt', ' ', text) # Menghapus retweet\n",
    "\ttext = text.translate(str.maketrans(\"\",\"\",string.punctuation)) # Menghapus tanda baca\n",
    "\ttext = re.sub(r'\\d', ' ', text) # Menghapus angka\n",
    "\ttext = text.lower()\n",
    "\ttext = text.encode('ascii','ignore').decode('utf-8') #Menghapus ASCII dan unicode\n",
    "\ttext = re.sub(r'[^\\x00-\\x7f]',r'', text)\n",
    "\ttext = text.replace('\\n','') #Menghapus baris baru\n",
    "\ttext = text.strip()\n",
    "\treturn text"
   ]
  },
  {
   "cell_type": "markdown",
   "metadata": {},
   "source": [
    "Fungsi ini untuk membersihkan text, lebih tepatnya membersihkan teks seperti; menghapus hastag, unicode, dsb.\n"
   ]
  },
  {
   "cell_type": "markdown",
   "metadata": {},
   "source": [
    "### Fungsi stemming_indo()\n"
   ]
  },
  {
   "cell_type": "code",
   "execution_count": 19,
   "metadata": {},
   "outputs": [],
   "source": [
    "def stemming_indo(text):\n",
    "\tfactory = StemmerFactory()\n",
    "\tstemmer = factory.create_stemmer()\n",
    "\ttext = ' '.join(stemmer.stem(word) for word in text)\n",
    "\treturn text"
   ]
  },
  {
   "cell_type": "markdown",
   "metadata": {},
   "source": [
    "Fungsi ini digunakan untuk menstemming atau membersihkan kata seperti:\n",
    "\n",
    "katanya = kata<br>\n",
    "menggunakan = guna\n"
   ]
  },
  {
   "cell_type": "markdown",
   "metadata": {},
   "source": [
    "### Fungsi clean_stopword()\n"
   ]
  },
  {
   "cell_type": "code",
   "execution_count": 20,
   "metadata": {},
   "outputs": [],
   "source": [
    "def clean_stopword(tokens):\n",
    "\tlistStopword =  set(stopwords.words('indonesian'))\n",
    "\tremoved = []\n",
    "\tfor t in tokens:\n",
    "\t\tif t not in listStopword:\n",
    "\t\t\tremoved.append(t)\n",
    "\treturn removed"
   ]
  },
  {
   "cell_type": "markdown",
   "metadata": {},
   "source": [
    "Fungsi untuk membuang kata yang tidak digunakan seperti:\n",
    "\n",
    "di, dan, dsb.\n"
   ]
  },
  {
   "cell_type": "markdown",
   "metadata": {},
   "source": [
    "### Proses preprosesing text setiap dokumen\n"
   ]
  },
  {
   "cell_type": "code",
   "execution_count": 21,
   "metadata": {},
   "outputs": [
    {
     "name": "stderr",
     "output_type": "stream",
     "text": [
      "100%|██████████| 100/100 [00:02<00:00, 39.41it/s]\n"
     ]
    }
   ],
   "source": [
    "def preprocess_text(content):\n",
    "\tresult = []\n",
    "\tfor text in tqdm(content):\n",
    "\t\tcleaned_text = clean_text(text)\n",
    "\t\ttokens = word_tokenize(cleaned_text)\n",
    "\t\tcleaned_stopword = clean_stopword(tokens)\n",
    "\t\tstemmed_text = stemming_indo(cleaned_stopword)\n",
    "\t\tresult.append(stemmed_text)\n",
    "\treturn result\n",
    "\n",
    "data['cleaned_text'] = preprocess_text(data['isi'])"
   ]
  },
  {
   "cell_type": "markdown",
   "metadata": {},
   "source": [
    "Proses untuk mempersiapkan teks pada setiap dokumen yang diproses menggunakan fungsi-fungsi yang sudah dibuat sebelumnya, yang selanjutnya akan di tf-idf dan vsm.\n"
   ]
  },
  {
   "cell_type": "markdown",
   "metadata": {},
   "source": [
    "### Proses TF-IDF dan pembuatan VSM\n"
   ]
  },
  {
   "cell_type": "markdown",
   "metadata": {},
   "source": [
    "#### Split data\n"
   ]
  },
  {
   "cell_type": "code",
   "execution_count": 22,
   "metadata": {},
   "outputs": [
    {
     "data": {
      "text/html": [
       "<div>\n",
       "<style scoped>\n",
       "    .dataframe tbody tr th:only-of-type {\n",
       "        vertical-align: middle;\n",
       "    }\n",
       "\n",
       "    .dataframe tbody tr th {\n",
       "        vertical-align: top;\n",
       "    }\n",
       "\n",
       "    .dataframe thead th {\n",
       "        text-align: right;\n",
       "    }\n",
       "</style>\n",
       "<table border=\"1\" class=\"dataframe\">\n",
       "  <thead>\n",
       "    <tr style=\"text-align: right;\">\n",
       "      <th></th>\n",
       "      <th>judul</th>\n",
       "      <th>tanggal</th>\n",
       "      <th>isi</th>\n",
       "      <th>kategori</th>\n",
       "      <th>cleaned_text</th>\n",
       "    </tr>\n",
       "  </thead>\n",
       "  <tbody>\n",
       "    <tr>\n",
       "      <th>0</th>\n",
       "      <td>Perkembangan Terkini Pengusutan Kasus Firli Ba...</td>\n",
       "      <td>Minggu, 24 Nov 2024 06:16 WIB</td>\n",
       "      <td>Kasus yang menjerat eks Ketua KPK Komjen Pol (...</td>\n",
       "      <td>nasional</td>\n",
       "      <td>jerat eks ketua kpk komjen pol purn firli bahu...</td>\n",
       "    </tr>\n",
       "    <tr>\n",
       "      <th>1</th>\n",
       "      <td>Israel Gempur Beirut Pakai Rudal, 11 Orang Tew...</td>\n",
       "      <td>Sabtu, 23 Nov 2024 19:29 WIB</td>\n",
       "      <td>Serangan udara Israel di jantung ibukota Leban...</td>\n",
       "      <td>internasional</td>\n",
       "      <td>serang udara israel jantung ibukota lebanon be...</td>\n",
       "    </tr>\n",
       "    <tr>\n",
       "      <th>2</th>\n",
       "      <td>FOTO: Gunung Berapi Islandia Meletus 7 Kali Us...</td>\n",
       "      <td>Sabtu, 23 Nov 2024 12:20 WIB</td>\n",
       "      <td>Gunung berapi di Semenanjung Reykjanes Lyings,...</td>\n",
       "      <td>internasional</td>\n",
       "      <td>gunung rap semenanjung reykjanes lyings island...</td>\n",
       "    </tr>\n",
       "    <tr>\n",
       "      <th>3</th>\n",
       "      <td>RI-Australia Sepakat Tukar Tahanan Pelaku Jari...</td>\n",
       "      <td>Minggu, 24 Nov 2024 13:20 WIB</td>\n",
       "      <td>Australia menyebut Indonesia telah setuju untu...</td>\n",
       "      <td>internasional</td>\n",
       "      <td>australia sebut indonesia tuju be ukar tahan p...</td>\n",
       "    </tr>\n",
       "    <tr>\n",
       "      <th>4</th>\n",
       "      <td>ICC Rilis Surat Penangkapan, Netanyahu Jadi Bu...</td>\n",
       "      <td>Jumat, 22 Nov 2024 16:20 WIB</td>\n",
       "      <td>Perdana Menteri Israel Benjamin Netanyahu menj...</td>\n",
       "      <td>internasional</td>\n",
       "      <td>perdana menteri israel benjamin netanyahu buro...</td>\n",
       "    </tr>\n",
       "    <tr>\n",
       "      <th>...</th>\n",
       "      <td>...</td>\n",
       "      <td>...</td>\n",
       "      <td>...</td>\n",
       "      <td>...</td>\n",
       "      <td>...</td>\n",
       "    </tr>\n",
       "    <tr>\n",
       "      <th>75</th>\n",
       "      <td>FOTO: Wajah AKP Dadang di Kasus Polisi Tembak ...</td>\n",
       "      <td>Sabtu, 23 Nov 2024 18:40 WIB</td>\n",
       "      <td>Polda Sumbar menetapkan Kabag Ops Polres Solok...</td>\n",
       "      <td>nasional</td>\n",
       "      <td>polda sumbar tetap kabag ops polres solok sela...</td>\n",
       "    </tr>\n",
       "    <tr>\n",
       "      <th>76</th>\n",
       "      <td>Tujuh Orang Ditangkap Terkait OTT di Bengkulu</td>\n",
       "      <td>Minggu, 24 Nov 2024 08:30 WIB</td>\n",
       "      <td>Komisi Pemberantasan Korupsi (KPK) sedikitnya ...</td>\n",
       "      <td>nasional</td>\n",
       "      <td>komisi berantas korupsi kpk aman tujuh orang o...</td>\n",
       "    </tr>\n",
       "    <tr>\n",
       "      <th>77</th>\n",
       "      <td>AS Sebut Tentara Korut Kumpul di Rusia untuk S...</td>\n",
       "      <td>Sabtu, 23 Nov 2024 09:54 WIB</td>\n",
       "      <td>Kepala Departemen Pertahanan Amerika Serikat a...</td>\n",
       "      <td>internasional</td>\n",
       "      <td>kepala depa emen pe ahanan amerika serikat pen...</td>\n",
       "    </tr>\n",
       "    <tr>\n",
       "      <th>78</th>\n",
       "      <td>Beda Keuntungan Negara Partner dan Negara Angg...</td>\n",
       "      <td>Sabtu, 23 Nov 2024 10:10 WIB</td>\n",
       "      <td>Indonesia telah resmi menjadi negara partner a...</td>\n",
       "      <td>internasional</td>\n",
       "      <td>indonesia resmi negara pa ner mitra forum ekon...</td>\n",
       "    </tr>\n",
       "    <tr>\n",
       "      <th>79</th>\n",
       "      <td>Rusia Pakai Rudal Nuklir ke Ukraina, Perang Di...</td>\n",
       "      <td>Jumat, 22 Nov 2024 19:50 WIB</td>\n",
       "      <td>Sejumlah pakar negara Barat memperingatkan anc...</td>\n",
       "      <td>internasional</td>\n",
       "      <td>pakar negara barat ingat ancam perang dingin i...</td>\n",
       "    </tr>\n",
       "  </tbody>\n",
       "</table>\n",
       "<p>80 rows × 5 columns</p>\n",
       "</div>"
      ],
      "text/plain": [
       "                                                judul  \\\n",
       "0   Perkembangan Terkini Pengusutan Kasus Firli Ba...   \n",
       "1   Israel Gempur Beirut Pakai Rudal, 11 Orang Tew...   \n",
       "2   FOTO: Gunung Berapi Islandia Meletus 7 Kali Us...   \n",
       "3   RI-Australia Sepakat Tukar Tahanan Pelaku Jari...   \n",
       "4   ICC Rilis Surat Penangkapan, Netanyahu Jadi Bu...   \n",
       "..                                                ...   \n",
       "75  FOTO: Wajah AKP Dadang di Kasus Polisi Tembak ...   \n",
       "76      Tujuh Orang Ditangkap Terkait OTT di Bengkulu   \n",
       "77  AS Sebut Tentara Korut Kumpul di Rusia untuk S...   \n",
       "78  Beda Keuntungan Negara Partner dan Negara Angg...   \n",
       "79  Rusia Pakai Rudal Nuklir ke Ukraina, Perang Di...   \n",
       "\n",
       "                            tanggal  \\\n",
       "0    Minggu, 24 Nov 2024 06:16 WIB    \n",
       "1     Sabtu, 23 Nov 2024 19:29 WIB    \n",
       "2      Sabtu, 23 Nov 2024 12:20 WIB   \n",
       "3    Minggu, 24 Nov 2024 13:20 WIB    \n",
       "4     Jumat, 22 Nov 2024 16:20 WIB    \n",
       "..                              ...   \n",
       "75     Sabtu, 23 Nov 2024 18:40 WIB   \n",
       "76   Minggu, 24 Nov 2024 08:30 WIB    \n",
       "77    Sabtu, 23 Nov 2024 09:54 WIB    \n",
       "78    Sabtu, 23 Nov 2024 10:10 WIB    \n",
       "79    Jumat, 22 Nov 2024 19:50 WIB    \n",
       "\n",
       "                                                  isi       kategori  \\\n",
       "0   Kasus yang menjerat eks Ketua KPK Komjen Pol (...       nasional   \n",
       "1   Serangan udara Israel di jantung ibukota Leban...  internasional   \n",
       "2   Gunung berapi di Semenanjung Reykjanes Lyings,...  internasional   \n",
       "3   Australia menyebut Indonesia telah setuju untu...  internasional   \n",
       "4   Perdana Menteri Israel Benjamin Netanyahu menj...  internasional   \n",
       "..                                                ...            ...   \n",
       "75  Polda Sumbar menetapkan Kabag Ops Polres Solok...       nasional   \n",
       "76  Komisi Pemberantasan Korupsi (KPK) sedikitnya ...       nasional   \n",
       "77  Kepala Departemen Pertahanan Amerika Serikat a...  internasional   \n",
       "78  Indonesia telah resmi menjadi negara partner a...  internasional   \n",
       "79  Sejumlah pakar negara Barat memperingatkan anc...  internasional   \n",
       "\n",
       "                                         cleaned_text  \n",
       "0   jerat eks ketua kpk komjen pol purn firli bahu...  \n",
       "1   serang udara israel jantung ibukota lebanon be...  \n",
       "2   gunung rap semenanjung reykjanes lyings island...  \n",
       "3   australia sebut indonesia tuju be ukar tahan p...  \n",
       "4   perdana menteri israel benjamin netanyahu buro...  \n",
       "..                                                ...  \n",
       "75  polda sumbar tetap kabag ops polres solok sela...  \n",
       "76  komisi berantas korupsi kpk aman tujuh orang o...  \n",
       "77  kepala depa emen pe ahanan amerika serikat pen...  \n",
       "78  indonesia resmi negara pa ner mitra forum ekon...  \n",
       "79  pakar negara barat ingat ancam perang dingin i...  \n",
       "\n",
       "[80 rows x 5 columns]"
      ]
     },
     "execution_count": 22,
     "metadata": {},
     "output_type": "execute_result"
    }
   ],
   "source": [
    "data_train = data[:80]\n",
    "data_test = data[80:]\n",
    "data_train"
   ]
  },
  {
   "cell_type": "markdown",
   "metadata": {},
   "source": [
    "Split data menjadi 80 data untuk train dan 20 data untuk testing dari 100 data yang ada.\n"
   ]
  },
  {
   "cell_type": "markdown",
   "metadata": {},
   "source": [
    "#### TF-IDF & VSM\n"
   ]
  },
  {
   "cell_type": "code",
   "execution_count": 23,
   "metadata": {},
   "outputs": [],
   "source": [
    "def tfidf_vsm(data, kategori):\n",
    "\ttfidf = TfidfVectorizer()\n",
    "\ttfidf_matrix = tfidf.fit_transform(data)\n",
    "\tfeature_names = tfidf.get_feature_names_out()\n",
    "\t\n",
    "\tdf_tfidf = pd.DataFrame(tfidf_matrix.toarray(), columns=feature_names)\n",
    "\tdf_tfidf.insert(0, 'Kategori Berita', kategori.reset_index(drop=True))\n",
    "\n",
    "\treturn tfidf, df_tfidf\n",
    "\n",
    "tfidf_model, df_tfidf = tfidf_vsm(data_train['cleaned_text'], data_train['kategori'])"
   ]
  },
  {
   "cell_type": "code",
   "execution_count": 24,
   "metadata": {},
   "outputs": [],
   "source": [
    "def model_tf_idf(data, model, kategori):\n",
    "\ttfidf_matrix = model.transform(data)\n",
    "\tfeature_names = model.get_feature_names_out()\n",
    "\t\n",
    "\tdf_tfidf = pd.DataFrame(tfidf_matrix.toarray(), columns=feature_names)\n",
    "\tdf_tfidf.insert(0, 'Kategori Berita', kategori.reset_index(drop=True))\n",
    "\n",
    "\treturn df_tfidf\n",
    "\n",
    "df_tfidf_test = model_tf_idf(data_test['cleaned_text'], tfidf_model, data_test['kategori'])"
   ]
  },
  {
   "cell_type": "code",
   "execution_count": 25,
   "metadata": {},
   "outputs": [],
   "source": [
    "# df_tfidf_test.head()"
   ]
  },
  {
   "cell_type": "code",
   "execution_count": 26,
   "metadata": {},
   "outputs": [
    {
     "data": {
      "text/html": [
       "<div>\n",
       "<style scoped>\n",
       "    .dataframe tbody tr th:only-of-type {\n",
       "        vertical-align: middle;\n",
       "    }\n",
       "\n",
       "    .dataframe tbody tr th {\n",
       "        vertical-align: top;\n",
       "    }\n",
       "\n",
       "    .dataframe thead th {\n",
       "        text-align: right;\n",
       "    }\n",
       "</style>\n",
       "<table border=\"1\" class=\"dataframe\">\n",
       "  <thead>\n",
       "    <tr style=\"text-align: right;\">\n",
       "      <th></th>\n",
       "      <th>Kategori Berita</th>\n",
       "      <th>abad</th>\n",
       "      <th>abah</th>\n",
       "      <th>abai</th>\n",
       "      <th>abat</th>\n",
       "      <th>abdi</th>\n",
       "      <th>abdul</th>\n",
       "      <th>abdulla</th>\n",
       "      <th>abdullah</th>\n",
       "      <th>abdulloh</th>\n",
       "      <th>...</th>\n",
       "      <th>zaki</th>\n",
       "      <th>zaman</th>\n",
       "      <th>zambia</th>\n",
       "      <th>zayed</th>\n",
       "      <th>zelenskiy</th>\n",
       "      <th>zelensky</th>\n",
       "      <th>zikir</th>\n",
       "      <th>zionis</th>\n",
       "      <th>zulhas</th>\n",
       "      <th>zulkifli</th>\n",
       "    </tr>\n",
       "  </thead>\n",
       "  <tbody>\n",
       "    <tr>\n",
       "      <th>0</th>\n",
       "      <td>nasional</td>\n",
       "      <td>0.000000</td>\n",
       "      <td>0.0</td>\n",
       "      <td>0.026348</td>\n",
       "      <td>0.0</td>\n",
       "      <td>0.0</td>\n",
       "      <td>0.0</td>\n",
       "      <td>0.0</td>\n",
       "      <td>0.0</td>\n",
       "      <td>0.0</td>\n",
       "      <td>...</td>\n",
       "      <td>0.0</td>\n",
       "      <td>0.000000</td>\n",
       "      <td>0.0</td>\n",
       "      <td>0.0</td>\n",
       "      <td>0.0</td>\n",
       "      <td>0.0</td>\n",
       "      <td>0.0</td>\n",
       "      <td>0.0</td>\n",
       "      <td>0.0</td>\n",
       "      <td>0.0</td>\n",
       "    </tr>\n",
       "    <tr>\n",
       "      <th>1</th>\n",
       "      <td>internasional</td>\n",
       "      <td>0.000000</td>\n",
       "      <td>0.0</td>\n",
       "      <td>0.000000</td>\n",
       "      <td>0.0</td>\n",
       "      <td>0.0</td>\n",
       "      <td>0.0</td>\n",
       "      <td>0.0</td>\n",
       "      <td>0.0</td>\n",
       "      <td>0.0</td>\n",
       "      <td>...</td>\n",
       "      <td>0.0</td>\n",
       "      <td>0.000000</td>\n",
       "      <td>0.0</td>\n",
       "      <td>0.0</td>\n",
       "      <td>0.0</td>\n",
       "      <td>0.0</td>\n",
       "      <td>0.0</td>\n",
       "      <td>0.0</td>\n",
       "      <td>0.0</td>\n",
       "      <td>0.0</td>\n",
       "    </tr>\n",
       "    <tr>\n",
       "      <th>2</th>\n",
       "      <td>internasional</td>\n",
       "      <td>0.000000</td>\n",
       "      <td>0.0</td>\n",
       "      <td>0.000000</td>\n",
       "      <td>0.0</td>\n",
       "      <td>0.0</td>\n",
       "      <td>0.0</td>\n",
       "      <td>0.0</td>\n",
       "      <td>0.0</td>\n",
       "      <td>0.0</td>\n",
       "      <td>...</td>\n",
       "      <td>0.0</td>\n",
       "      <td>0.000000</td>\n",
       "      <td>0.0</td>\n",
       "      <td>0.0</td>\n",
       "      <td>0.0</td>\n",
       "      <td>0.0</td>\n",
       "      <td>0.0</td>\n",
       "      <td>0.0</td>\n",
       "      <td>0.0</td>\n",
       "      <td>0.0</td>\n",
       "    </tr>\n",
       "    <tr>\n",
       "      <th>3</th>\n",
       "      <td>internasional</td>\n",
       "      <td>0.000000</td>\n",
       "      <td>0.0</td>\n",
       "      <td>0.000000</td>\n",
       "      <td>0.0</td>\n",
       "      <td>0.0</td>\n",
       "      <td>0.0</td>\n",
       "      <td>0.0</td>\n",
       "      <td>0.0</td>\n",
       "      <td>0.0</td>\n",
       "      <td>...</td>\n",
       "      <td>0.0</td>\n",
       "      <td>0.000000</td>\n",
       "      <td>0.0</td>\n",
       "      <td>0.0</td>\n",
       "      <td>0.0</td>\n",
       "      <td>0.0</td>\n",
       "      <td>0.0</td>\n",
       "      <td>0.0</td>\n",
       "      <td>0.0</td>\n",
       "      <td>0.0</td>\n",
       "    </tr>\n",
       "    <tr>\n",
       "      <th>4</th>\n",
       "      <td>internasional</td>\n",
       "      <td>0.046459</td>\n",
       "      <td>0.0</td>\n",
       "      <td>0.000000</td>\n",
       "      <td>0.0</td>\n",
       "      <td>0.0</td>\n",
       "      <td>0.0</td>\n",
       "      <td>0.0</td>\n",
       "      <td>0.0</td>\n",
       "      <td>0.0</td>\n",
       "      <td>...</td>\n",
       "      <td>0.0</td>\n",
       "      <td>0.046459</td>\n",
       "      <td>0.0</td>\n",
       "      <td>0.0</td>\n",
       "      <td>0.0</td>\n",
       "      <td>0.0</td>\n",
       "      <td>0.0</td>\n",
       "      <td>0.0</td>\n",
       "      <td>0.0</td>\n",
       "      <td>0.0</td>\n",
       "    </tr>\n",
       "    <tr>\n",
       "      <th>...</th>\n",
       "      <td>...</td>\n",
       "      <td>...</td>\n",
       "      <td>...</td>\n",
       "      <td>...</td>\n",
       "      <td>...</td>\n",
       "      <td>...</td>\n",
       "      <td>...</td>\n",
       "      <td>...</td>\n",
       "      <td>...</td>\n",
       "      <td>...</td>\n",
       "      <td>...</td>\n",
       "      <td>...</td>\n",
       "      <td>...</td>\n",
       "      <td>...</td>\n",
       "      <td>...</td>\n",
       "      <td>...</td>\n",
       "      <td>...</td>\n",
       "      <td>...</td>\n",
       "      <td>...</td>\n",
       "      <td>...</td>\n",
       "      <td>...</td>\n",
       "    </tr>\n",
       "    <tr>\n",
       "      <th>75</th>\n",
       "      <td>nasional</td>\n",
       "      <td>0.000000</td>\n",
       "      <td>0.0</td>\n",
       "      <td>0.000000</td>\n",
       "      <td>0.0</td>\n",
       "      <td>0.0</td>\n",
       "      <td>0.0</td>\n",
       "      <td>0.0</td>\n",
       "      <td>0.0</td>\n",
       "      <td>0.0</td>\n",
       "      <td>...</td>\n",
       "      <td>0.0</td>\n",
       "      <td>0.000000</td>\n",
       "      <td>0.0</td>\n",
       "      <td>0.0</td>\n",
       "      <td>0.0</td>\n",
       "      <td>0.0</td>\n",
       "      <td>0.0</td>\n",
       "      <td>0.0</td>\n",
       "      <td>0.0</td>\n",
       "      <td>0.0</td>\n",
       "    </tr>\n",
       "    <tr>\n",
       "      <th>76</th>\n",
       "      <td>nasional</td>\n",
       "      <td>0.000000</td>\n",
       "      <td>0.0</td>\n",
       "      <td>0.000000</td>\n",
       "      <td>0.0</td>\n",
       "      <td>0.0</td>\n",
       "      <td>0.0</td>\n",
       "      <td>0.0</td>\n",
       "      <td>0.0</td>\n",
       "      <td>0.0</td>\n",
       "      <td>...</td>\n",
       "      <td>0.0</td>\n",
       "      <td>0.000000</td>\n",
       "      <td>0.0</td>\n",
       "      <td>0.0</td>\n",
       "      <td>0.0</td>\n",
       "      <td>0.0</td>\n",
       "      <td>0.0</td>\n",
       "      <td>0.0</td>\n",
       "      <td>0.0</td>\n",
       "      <td>0.0</td>\n",
       "    </tr>\n",
       "    <tr>\n",
       "      <th>77</th>\n",
       "      <td>internasional</td>\n",
       "      <td>0.000000</td>\n",
       "      <td>0.0</td>\n",
       "      <td>0.000000</td>\n",
       "      <td>0.0</td>\n",
       "      <td>0.0</td>\n",
       "      <td>0.0</td>\n",
       "      <td>0.0</td>\n",
       "      <td>0.0</td>\n",
       "      <td>0.0</td>\n",
       "      <td>...</td>\n",
       "      <td>0.0</td>\n",
       "      <td>0.000000</td>\n",
       "      <td>0.0</td>\n",
       "      <td>0.0</td>\n",
       "      <td>0.0</td>\n",
       "      <td>0.0</td>\n",
       "      <td>0.0</td>\n",
       "      <td>0.0</td>\n",
       "      <td>0.0</td>\n",
       "      <td>0.0</td>\n",
       "    </tr>\n",
       "    <tr>\n",
       "      <th>78</th>\n",
       "      <td>internasional</td>\n",
       "      <td>0.000000</td>\n",
       "      <td>0.0</td>\n",
       "      <td>0.000000</td>\n",
       "      <td>0.0</td>\n",
       "      <td>0.0</td>\n",
       "      <td>0.0</td>\n",
       "      <td>0.0</td>\n",
       "      <td>0.0</td>\n",
       "      <td>0.0</td>\n",
       "      <td>...</td>\n",
       "      <td>0.0</td>\n",
       "      <td>0.000000</td>\n",
       "      <td>0.0</td>\n",
       "      <td>0.0</td>\n",
       "      <td>0.0</td>\n",
       "      <td>0.0</td>\n",
       "      <td>0.0</td>\n",
       "      <td>0.0</td>\n",
       "      <td>0.0</td>\n",
       "      <td>0.0</td>\n",
       "    </tr>\n",
       "    <tr>\n",
       "      <th>79</th>\n",
       "      <td>internasional</td>\n",
       "      <td>0.000000</td>\n",
       "      <td>0.0</td>\n",
       "      <td>0.000000</td>\n",
       "      <td>0.0</td>\n",
       "      <td>0.0</td>\n",
       "      <td>0.0</td>\n",
       "      <td>0.0</td>\n",
       "      <td>0.0</td>\n",
       "      <td>0.0</td>\n",
       "      <td>...</td>\n",
       "      <td>0.0</td>\n",
       "      <td>0.000000</td>\n",
       "      <td>0.0</td>\n",
       "      <td>0.0</td>\n",
       "      <td>0.0</td>\n",
       "      <td>0.0</td>\n",
       "      <td>0.0</td>\n",
       "      <td>0.0</td>\n",
       "      <td>0.0</td>\n",
       "      <td>0.0</td>\n",
       "    </tr>\n",
       "  </tbody>\n",
       "</table>\n",
       "<p>80 rows × 2769 columns</p>\n",
       "</div>"
      ],
      "text/plain": [
       "   Kategori Berita      abad  abah      abai  abat  abdi  abdul  abdulla  \\\n",
       "0         nasional  0.000000   0.0  0.026348   0.0   0.0    0.0      0.0   \n",
       "1    internasional  0.000000   0.0  0.000000   0.0   0.0    0.0      0.0   \n",
       "2    internasional  0.000000   0.0  0.000000   0.0   0.0    0.0      0.0   \n",
       "3    internasional  0.000000   0.0  0.000000   0.0   0.0    0.0      0.0   \n",
       "4    internasional  0.046459   0.0  0.000000   0.0   0.0    0.0      0.0   \n",
       "..             ...       ...   ...       ...   ...   ...    ...      ...   \n",
       "75        nasional  0.000000   0.0  0.000000   0.0   0.0    0.0      0.0   \n",
       "76        nasional  0.000000   0.0  0.000000   0.0   0.0    0.0      0.0   \n",
       "77   internasional  0.000000   0.0  0.000000   0.0   0.0    0.0      0.0   \n",
       "78   internasional  0.000000   0.0  0.000000   0.0   0.0    0.0      0.0   \n",
       "79   internasional  0.000000   0.0  0.000000   0.0   0.0    0.0      0.0   \n",
       "\n",
       "    abdullah  abdulloh  ...  zaki     zaman  zambia  zayed  zelenskiy  \\\n",
       "0        0.0       0.0  ...   0.0  0.000000     0.0    0.0        0.0   \n",
       "1        0.0       0.0  ...   0.0  0.000000     0.0    0.0        0.0   \n",
       "2        0.0       0.0  ...   0.0  0.000000     0.0    0.0        0.0   \n",
       "3        0.0       0.0  ...   0.0  0.000000     0.0    0.0        0.0   \n",
       "4        0.0       0.0  ...   0.0  0.046459     0.0    0.0        0.0   \n",
       "..       ...       ...  ...   ...       ...     ...    ...        ...   \n",
       "75       0.0       0.0  ...   0.0  0.000000     0.0    0.0        0.0   \n",
       "76       0.0       0.0  ...   0.0  0.000000     0.0    0.0        0.0   \n",
       "77       0.0       0.0  ...   0.0  0.000000     0.0    0.0        0.0   \n",
       "78       0.0       0.0  ...   0.0  0.000000     0.0    0.0        0.0   \n",
       "79       0.0       0.0  ...   0.0  0.000000     0.0    0.0        0.0   \n",
       "\n",
       "    zelensky  zikir  zionis  zulhas  zulkifli  \n",
       "0        0.0    0.0     0.0     0.0       0.0  \n",
       "1        0.0    0.0     0.0     0.0       0.0  \n",
       "2        0.0    0.0     0.0     0.0       0.0  \n",
       "3        0.0    0.0     0.0     0.0       0.0  \n",
       "4        0.0    0.0     0.0     0.0       0.0  \n",
       "..       ...    ...     ...     ...       ...  \n",
       "75       0.0    0.0     0.0     0.0       0.0  \n",
       "76       0.0    0.0     0.0     0.0       0.0  \n",
       "77       0.0    0.0     0.0     0.0       0.0  \n",
       "78       0.0    0.0     0.0     0.0       0.0  \n",
       "79       0.0    0.0     0.0     0.0       0.0  \n",
       "\n",
       "[80 rows x 2769 columns]"
      ]
     },
     "execution_count": 26,
     "metadata": {},
     "output_type": "execute_result"
    }
   ],
   "source": [
    "df_tfidf"
   ]
  },
  {
   "cell_type": "markdown",
   "metadata": {},
   "source": [
    "Proses untuk membuat TF-IDF dan membentuk VSM dalam dataframe.\n"
   ]
  },
  {
   "cell_type": "markdown",
   "metadata": {},
   "source": [
    "## Save Dataset & Model\n"
   ]
  },
  {
   "cell_type": "code",
   "execution_count": 27,
   "metadata": {},
   "outputs": [],
   "source": [
    "df_tfidf.to_csv(\"data_train_vsm.csv\", index=False)\n",
    "df_tfidf_test.to_csv(\"data_test_vsm.csv\", index=False)"
   ]
  },
  {
   "cell_type": "code",
   "execution_count": 28,
   "metadata": {},
   "outputs": [],
   "source": [
    "with open('tfidf_model.pkl', 'wb') as f:\n",
    "    pickle.dump(tfidf_model, f)"
   ]
  }
 ],
 "metadata": {
  "kernelspec": {
   "display_name": "Python 3",
   "language": "python",
   "name": "python3"
  },
  "language_info": {
   "codemirror_mode": {
    "name": "ipython",
    "version": 3
   },
   "file_extension": ".py",
   "mimetype": "text/x-python",
   "name": "python",
   "nbconvert_exporter": "python",
   "pygments_lexer": "ipython3",
   "version": "3.12.2"
  }
 },
 "nbformat": 4,
 "nbformat_minor": 2
}
