{
 "cells": [
  {
   "cell_type": "markdown",
   "metadata": {},
   "source": [
    "# TF-IDF & Vector Space Model"
   ]
  },
  {
   "cell_type": "markdown",
   "metadata": {},
   "source": [
    "## Apa itu VSM (Vector Space Model)"
   ]
  },
  {
   "cell_type": "markdown",
   "metadata": {},
   "source": [
    "Vector Space Model (VSM) adalah kerangka kerja matriks yang digunakan dalam temu kembali informasi dan pemrosesan bahasa alami (NLP) untuk merepresentasikan dan menganalisis data visual. VSM sangat penting dalam penggalian teks, pencarian dokumen, dan tugas-tugas pembelajaran mesin berbasis teks seperti klasifikasi dokumen, pencarian informasi, dan analisis kemiripan teks."
   ]
  },
  {
   "cell_type": "markdown",
   "metadata": {},
   "source": [
    "![image.png](https://i0.wp.com/spotintelligence.com/wp-content/uploads/2023/09/vector-space-model.jpg?resize=960%2C540&ssl=1)"
   ]
  },
  {
   "cell_type": "markdown",
   "metadata": {},
   "source": [
    "Setiap dimensi berhubungan dengan term yang unik, sementara dokumen dan query dapat direpresentasikan sebagai vektor di dalam ruang tersebut."
   ]
  },
  {
   "cell_type": "markdown",
   "metadata": {},
   "source": [
    "## Term Frequency-Inverse Document Frequency (TF-IDF)"
   ]
  },
  {
   "cell_type": "markdown",
   "metadata": {},
   "source": [
    "TF-IDF adalah singkatan dari Term Frequency Inverse Document Frequency. Hal ini dapat didefinisikan sebagai perhitungan seberapa relevan sebuah kata dalam kumpulan atau corpus terhadap sebuah teks. Nilai relevansi meningkat secara relatif terhadap berapa kali sebuah kata muncul di dalam teks, namun dikompensasi oleh frekuensi kata di dalam corpus (kumpulan data)."
   ]
  },
  {
   "cell_type": "markdown",
   "metadata": {},
   "source": [
    "## Term Frequency"
   ]
  },
  {
   "cell_type": "markdown",
   "metadata": {},
   "source": [
    "Pada dokumen d, frekuensi merepresentasikan jumlah kemunculan kata t. Oleh karena itu, kita dapat melihat bahwa frekuensi akan menjadi lebih relevan ketika sebuah kata muncul dalam teks, yang mana hal ini bersifat relatif. Karena urutan istilah tidak signifikan, kita dapat menggunakan vektor untuk mendeskripsikan teks dalam kumpulan model term. Untuk setiap istilah tertentu dalam teks, ada sebuah entri dengan nilai yang merupakan frekuensi term."
   ]
  },
  {
   "cell_type": "markdown",
   "metadata": {},
   "source": [
    "**tf(t,d) = count of t in d / number of words in d**"
   ]
  },
  {
   "cell_type": "markdown",
   "metadata": {},
   "source": [
    "## Inverse Document Frequency"
   ]
  },
  {
   "cell_type": "markdown",
   "metadata": {},
   "source": [
    "Pada dasarnya, ini menguji seberapa relevan kata tersebut. Tujuan utama dari pencarian ini adalah untuk menemukan dokumen yang sesuai dengan pencarian. Karena tf menganggap semua istilah sama pentingnya, maka frekuensi term tidak hanya dapat digunakan untuk mengukur bobot term dalam dokumen. Pertama, cari frekuensi dokumen dari suatu istilah t dengan menghitung jumlah dokumen yang mengandung term tersebut:"
   ]
  },
  {
   "cell_type": "markdown",
   "metadata": {},
   "source": [
    "**idf(t) = log(N/ df(t))**"
   ]
  },
  {
   "cell_type": "markdown",
   "metadata": {},
   "source": [
    "Penjelasan:<br>\n",
    "**df(t)** = **N(t)**<br>\n",
    "dimana<br>\n",
    "**df(t)** = **Document frequency of a term t**<br>\n",
    "**N(t)** = **Number of documents containing the term t**<br>"
   ]
  },
  {
   "cell_type": "markdown",
   "metadata": {},
   "source": [
    "## TF-IDF (Term Frequency-Inverse Document Frequency)"
   ]
  },
  {
   "cell_type": "markdown",
   "metadata": {},
   "source": [
    "**tf-idf(t, d) = tf(t, d) * idf(t)**"
   ]
  },
  {
   "cell_type": "markdown",
   "metadata": {},
   "source": [
    "## Proses TF-IDF dan menjadikannya VSM (Vector Space Model)"
   ]
  },
  {
   "cell_type": "markdown",
   "metadata": {},
   "source": [
    "### Import Library/Tool yang dibutuhkan"
   ]
  },
  {
   "cell_type": "code",
   "execution_count": 1,
   "metadata": {},
   "outputs": [
    {
     "name": "stderr",
     "output_type": "stream",
     "text": [
      "[nltk_data] Downloading package stopwords to C:\\Users\\LAB\n",
      "[nltk_data]     SISTER\\AppData\\Roaming\\nltk_data...\n",
      "[nltk_data]   Package stopwords is already up-to-date!\n",
      "[nltk_data] Downloading package punkt_tab to C:\\Users\\LAB\n",
      "[nltk_data]     SISTER\\AppData\\Roaming\\nltk_data...\n",
      "[nltk_data]   Package punkt_tab is already up-to-date!\n"
     ]
    }
   ],
   "source": [
    "# Library untuk data manipulation\n",
    "import pandas as pd\n",
    "from tqdm import tqdm\n",
    "import re\n",
    "import string\n",
    "\n",
    "# Library untuk text preprocessing\n",
    "import nltk\n",
    "from Sastrawi.Stemmer.StemmerFactory import StemmerFactory\n",
    "from nltk.tokenize import word_tokenize\n",
    "from nltk.corpus import stopwords\n",
    "nltk.download('stopwords')\n",
    "nltk.download('punkt_tab')\n",
    "\n",
    "# Library untuk text vectorization/TF-IDF\n",
    "from sklearn.feature_extraction.text import TfidfVectorizer"
   ]
  },
  {
   "cell_type": "markdown",
   "metadata": {},
   "source": [
    "* **pandas** digunakan untuk membuat dataframe agar mudah dibaca.\n",
    "* **tqdm** Untuk mentracking proses program.\n",
    "* **re** (regular expression) digunakan untuk mengenali pola kata/kalimat.\n",
    "* **nltk** (natural language toolkit) berfungsi untuk melakukan proses yang berkaitan dengan bahasa (teks).\n",
    "* **sklearn** digunakan dalam pemrosesan data untuk kebutuhan machine learning atau data science. Dalam tugas ini, menggunakan TfidfTransformer untuk menghitung TF-IDF.\n",
    "* **sastrawi** berfungsi untuk membersihkan mengurangi kata-kata imbuhan menjadi kata basic (sastrawi untuk stemming bahasa Indonesia)."
   ]
  },
  {
   "cell_type": "markdown",
   "metadata": {},
   "source": [
    "### Import data berita CSV"
   ]
  },
  {
   "cell_type": "code",
   "execution_count": 3,
   "metadata": {},
   "outputs": [
    {
     "data": {
      "text/html": [
       "<div>\n",
       "<style scoped>\n",
       "    .dataframe tbody tr th:only-of-type {\n",
       "        vertical-align: middle;\n",
       "    }\n",
       "\n",
       "    .dataframe tbody tr th {\n",
       "        vertical-align: top;\n",
       "    }\n",
       "\n",
       "    .dataframe thead th {\n",
       "        text-align: right;\n",
       "    }\n",
       "</style>\n",
       "<table border=\"1\" class=\"dataframe\">\n",
       "  <thead>\n",
       "    <tr style=\"text-align: right;\">\n",
       "      <th></th>\n",
       "      <th>judul</th>\n",
       "      <th>isi</th>\n",
       "      <th>tanggal</th>\n",
       "      <th>kategori</th>\n",
       "    </tr>\n",
       "  </thead>\n",
       "  <tbody>\n",
       "    <tr>\n",
       "      <th>0</th>\n",
       "      <td>FOTO: Momen Rudal Yaman Hantam Israel Tengah</td>\n",
       "      <td>Sebuah rudal yang ditembakkan dari Yaman jatuh...</td>\n",
       "      <td>Minggu, 15 Sep 2024 15:34 WIB</td>\n",
       "      <td>Internasional</td>\n",
       "    </tr>\n",
       "    <tr>\n",
       "      <th>1</th>\n",
       "      <td>Ribuan Orang Kepung Gedung Pemerintahan Israel...</td>\n",
       "      <td>Ribuan massa anti-pemerintah Israel berkumpul ...</td>\n",
       "      <td>Minggu, 15 Sep 2024 14:38 WIB</td>\n",
       "      <td>Internasional</td>\n",
       "    </tr>\n",
       "    <tr>\n",
       "      <th>2</th>\n",
       "      <td>Israel Klaim Tak Ada Korban Jiwa Imbas Seranga...</td>\n",
       "      <td>MiliterIsrael mengatakan sebuah rudal yang dit...</td>\n",
       "      <td>Minggu, 15 Sep 2024 13:25 WIB</td>\n",
       "      <td>Internasional</td>\n",
       "    </tr>\n",
       "    <tr>\n",
       "      <th>3</th>\n",
       "      <td>FOTO: Banjir Terjang Eropa Tengah, 4 Warga Rum...</td>\n",
       "      <td>Badai menghantam Eropa pada Sabtu waktu setemp...</td>\n",
       "      <td>Minggu, 15 Sep 2024 13:00 WIB</td>\n",
       "      <td>Internasional</td>\n",
       "    </tr>\n",
       "    <tr>\n",
       "      <th>4</th>\n",
       "      <td>VIDEO: Banjir Hantam Rumania Timur, 4 Warga Di...</td>\n",
       "      <td>Setidaknya 4 orang tewas akibat banjir yang me...</td>\n",
       "      <td>Minggu, 15 Sep 2024 12:09 WIB</td>\n",
       "      <td>Internasional</td>\n",
       "    </tr>\n",
       "    <tr>\n",
       "      <th>...</th>\n",
       "      <td>...</td>\n",
       "      <td>...</td>\n",
       "      <td>...</td>\n",
       "      <td>...</td>\n",
       "    </tr>\n",
       "    <tr>\n",
       "      <th>95</th>\n",
       "      <td>Adu Kuat Cak Lontong, Riza Patria &amp; Siti Fadil...</td>\n",
       "      <td>Tiga pasangan calon di Pemilihan Gubernur (Pil...</td>\n",
       "      <td>Sabtu, 14 Sep 2024 12:45 WIB</td>\n",
       "      <td>Nasional</td>\n",
       "    </tr>\n",
       "    <tr>\n",
       "      <th>96</th>\n",
       "      <td>Mahyeldi-Vasko dan Epyardi-Ekos Dinyatakan KPU...</td>\n",
       "      <td>KPUSumatera Barat menetapkan dua pasangan calo...</td>\n",
       "      <td>Sabtu, 14 Sep 2024 12:34 WIB</td>\n",
       "      <td>Nasional</td>\n",
       "    </tr>\n",
       "    <tr>\n",
       "      <th>97</th>\n",
       "      <td>Polisi Sulit Tangkap Terduga Pelaku Pembunuhan...</td>\n",
       "      <td>Memasuki hari ketujuh, polisi belum berhasil m...</td>\n",
       "      <td>Sabtu, 14 Sep 2024 12:05 WIB</td>\n",
       "      <td>Nasional</td>\n",
       "    </tr>\n",
       "    <tr>\n",
       "      <th>98</th>\n",
       "      <td>Polisi: Nikita Laporkan Vadel di Kasus Persetu...</td>\n",
       "      <td>Polisi menyebut artis Nikita Mirzanimelaporkan...</td>\n",
       "      <td>Sabtu, 14 Sep 2024 11:29 WIB</td>\n",
       "      <td>Nasional</td>\n",
       "    </tr>\n",
       "    <tr>\n",
       "      <th>99</th>\n",
       "      <td>Anggota DPR Sidak RS Kariadi, FK Undip Akui Ad...</td>\n",
       "      <td>Fakultas Kedokteran Universitas Diponegoro (FK...</td>\n",
       "      <td>Sabtu, 14 Sep 2024 10:55 WIB</td>\n",
       "      <td>Nasional</td>\n",
       "    </tr>\n",
       "  </tbody>\n",
       "</table>\n",
       "<p>100 rows × 4 columns</p>\n",
       "</div>"
      ],
      "text/plain": [
       "                                                judul  \\\n",
       "0        FOTO: Momen Rudal Yaman Hantam Israel Tengah   \n",
       "1   Ribuan Orang Kepung Gedung Pemerintahan Israel...   \n",
       "2   Israel Klaim Tak Ada Korban Jiwa Imbas Seranga...   \n",
       "3   FOTO: Banjir Terjang Eropa Tengah, 4 Warga Rum...   \n",
       "4   VIDEO: Banjir Hantam Rumania Timur, 4 Warga Di...   \n",
       "..                                                ...   \n",
       "95  Adu Kuat Cak Lontong, Riza Patria & Siti Fadil...   \n",
       "96  Mahyeldi-Vasko dan Epyardi-Ekos Dinyatakan KPU...   \n",
       "97  Polisi Sulit Tangkap Terduga Pelaku Pembunuhan...   \n",
       "98  Polisi: Nikita Laporkan Vadel di Kasus Persetu...   \n",
       "99  Anggota DPR Sidak RS Kariadi, FK Undip Akui Ad...   \n",
       "\n",
       "                                                  isi  \\\n",
       "0   Sebuah rudal yang ditembakkan dari Yaman jatuh...   \n",
       "1   Ribuan massa anti-pemerintah Israel berkumpul ...   \n",
       "2   MiliterIsrael mengatakan sebuah rudal yang dit...   \n",
       "3   Badai menghantam Eropa pada Sabtu waktu setemp...   \n",
       "4   Setidaknya 4 orang tewas akibat banjir yang me...   \n",
       "..                                                ...   \n",
       "95  Tiga pasangan calon di Pemilihan Gubernur (Pil...   \n",
       "96  KPUSumatera Barat menetapkan dua pasangan calo...   \n",
       "97  Memasuki hari ketujuh, polisi belum berhasil m...   \n",
       "98  Polisi menyebut artis Nikita Mirzanimelaporkan...   \n",
       "99  Fakultas Kedokteran Universitas Diponegoro (FK...   \n",
       "\n",
       "                            tanggal       kategori  \n",
       "0     Minggu, 15 Sep 2024 15:34 WIB  Internasional  \n",
       "1    Minggu, 15 Sep 2024 14:38 WIB   Internasional  \n",
       "2    Minggu, 15 Sep 2024 13:25 WIB   Internasional  \n",
       "3     Minggu, 15 Sep 2024 13:00 WIB  Internasional  \n",
       "4    Minggu, 15 Sep 2024 12:09 WIB   Internasional  \n",
       "..                              ...            ...  \n",
       "95    Sabtu, 14 Sep 2024 12:45 WIB        Nasional  \n",
       "96    Sabtu, 14 Sep 2024 12:34 WIB        Nasional  \n",
       "97    Sabtu, 14 Sep 2024 12:05 WIB        Nasional  \n",
       "98    Sabtu, 14 Sep 2024 11:29 WIB        Nasional  \n",
       "99    Sabtu, 14 Sep 2024 10:55 WIB        Nasional  \n",
       "\n",
       "[100 rows x 4 columns]"
      ]
     },
     "execution_count": 3,
     "metadata": {},
     "output_type": "execute_result"
    }
   ],
   "source": [
    "data = pd.read_csv(\"../tugas1/data_100.csv\")\n",
    "data.columns = data.columns.str.strip()\n",
    "data"
   ]
  },
  {
   "cell_type": "markdown",
   "metadata": {},
   "source": [
    "Import data berita csv yang telah disimpan sebelumnya,<br>\n",
    "dan membersihkan whitespace pada col header."
   ]
  },
  {
   "cell_type": "markdown",
   "metadata": {},
   "source": [
    "### Mengacak data"
   ]
  },
  {
   "cell_type": "code",
   "execution_count": 4,
   "metadata": {},
   "outputs": [],
   "source": [
    "data = data.sample(frac = 1, ignore_index=True)"
   ]
  },
  {
   "cell_type": "markdown",
   "metadata": {},
   "source": [
    "Mengacak data yang sebelumnya berdasarkan kategori 50:50, menjadi acak-acak."
   ]
  },
  {
   "cell_type": "markdown",
   "metadata": {},
   "source": [
    "### Fungsi clean_text()"
   ]
  },
  {
   "cell_type": "code",
   "execution_count": 5,
   "metadata": {},
   "outputs": [],
   "source": [
    "def clean_text(text):\n",
    "\ttext = re.sub(r'((www\\.[^\\s]+)|(https?://[^\\s]+))', ' ', text) # Menghapus https* and www*\n",
    "\ttext = re.sub(r'@[^\\s]+', ' ', text) # Menghapus username\n",
    "\ttext = re.sub(r'[\\s]+', ' ', text) # Menghapus tambahan spasi\n",
    "\ttext = re.sub(r'#([^\\s]+)', ' ', text) # Menghapus hashtags\n",
    "\ttext = re.sub(r'rt', ' ', text) # Menghapus retweet\n",
    "\ttext = text.translate(str.maketrans(\"\",\"\",string.punctuation)) # Menghapus tanda baca\n",
    "\ttext = re.sub(r'\\d', ' ', text) # Menghapus angka\n",
    "\ttext = text.lower()\n",
    "\ttext = text.encode('ascii','ignore').decode('utf-8') #Menghapus ASCII dan unicode\n",
    "\ttext = re.sub(r'[^\\x00-\\x7f]',r'', text)\n",
    "\ttext = text.replace('\\n','') #Menghapus baris baru\n",
    "\ttext = text.strip()\n",
    "\treturn text"
   ]
  },
  {
   "cell_type": "markdown",
   "metadata": {},
   "source": [
    "Fungsi ini untuk membersihkan text, lebih tepatnya membersihkan teks seperti; menghapus hastag, unicode, dsb."
   ]
  },
  {
   "cell_type": "markdown",
   "metadata": {},
   "source": [
    "### Fungsi stemming_indo()"
   ]
  },
  {
   "cell_type": "code",
   "execution_count": 6,
   "metadata": {},
   "outputs": [],
   "source": [
    "def stemming_indo(text):\n",
    "\tfactory = StemmerFactory()\n",
    "\tstemmer = factory.create_stemmer()\n",
    "\ttext = ' '.join(stemmer.stem(word) for word in text)\n",
    "\treturn text"
   ]
  },
  {
   "cell_type": "markdown",
   "metadata": {},
   "source": [
    "Fungsi ini digunakan untuk menstemming atau membersihkan kata seperti:\n",
    "\n",
    "katanya = kata<br>\n",
    "menggunakan = guna"
   ]
  },
  {
   "cell_type": "markdown",
   "metadata": {},
   "source": [
    "### Fungsi clean_stopword()"
   ]
  },
  {
   "cell_type": "code",
   "execution_count": 7,
   "metadata": {},
   "outputs": [],
   "source": [
    "def clean_stopword(tokens):\n",
    "\tlistStopword =  set(stopwords.words('indonesian'))\n",
    "\tremoved = []\n",
    "\tfor t in tokens:\n",
    "\t\tif t not in listStopword:\n",
    "\t\t\tremoved.append(t)\n",
    "\treturn removed"
   ]
  },
  {
   "cell_type": "markdown",
   "metadata": {},
   "source": [
    "Fungsi untuk membuang kata yang tidak digunakan seperti:\n",
    "\n",
    "di, dan, dsb."
   ]
  },
  {
   "cell_type": "markdown",
   "metadata": {},
   "source": [
    "### Proses preprosesing text setiap dokumen"
   ]
  },
  {
   "cell_type": "code",
   "execution_count": 8,
   "metadata": {},
   "outputs": [
    {
     "name": "stderr",
     "output_type": "stream",
     "text": [
      "100%|██████████| 100/100 [00:02<00:00, 38.70it/s]\n"
     ]
    }
   ],
   "source": [
    "def preprocess_text(content):\n",
    "\tresult = []\n",
    "\tfor text in tqdm(content):\n",
    "\t\tcleaned_text = clean_text(text)\n",
    "\t\ttokens = nltk.tokenize.word_tokenize(cleaned_text)\n",
    "\t\tcleaned_stopword = clean_stopword(tokens)\n",
    "\t\tstemmed_text = stemming_indo(cleaned_stopword)\n",
    "\t\tresult.append(stemmed_text)\n",
    "\treturn result\n",
    "\n",
    "data['cleaned_text'] = preprocess_text(data['isi'])"
   ]
  },
  {
   "cell_type": "markdown",
   "metadata": {},
   "source": [
    "Proses untuk mempersiapkan teks pada setiap dokumen yang diproses menggunakan fungsi-fungsi yang sudah dibuat sebelumnya, yang selanjutnya akan di tf-idf dan vsm."
   ]
  },
  {
   "cell_type": "markdown",
   "metadata": {},
   "source": [
    "### Proses TF-IDF dan pembuatan VSM"
   ]
  },
  {
   "cell_type": "code",
   "execution_count": 9,
   "metadata": {},
   "outputs": [],
   "source": [
    "def tfidf_vsm(data, kategori):\n",
    "\ttfidf = TfidfVectorizer()\n",
    "\ttfidf_matrix = tfidf.fit_transform(data)\n",
    "\tfeature_names = tfidf.get_feature_names_out()\n",
    "\t\n",
    "\tdf_tfidf = pd.DataFrame(tfidf_matrix.toarray(), columns=feature_names)\n",
    "\tdf_tfidf.insert(0, 'Kategori Berita', kategori.reset_index(drop=True))\n",
    "\n",
    "\treturn tfidf, df_tfidf\n",
    "\n",
    "tfidf, df_tfidf = tfidf_vsm(data['cleaned_text'], data['kategori'])"
   ]
  },
  {
   "cell_type": "code",
   "execution_count": 10,
   "metadata": {},
   "outputs": [
    {
     "data": {
      "text/html": [
       "<div>\n",
       "<style scoped>\n",
       "    .dataframe tbody tr th:only-of-type {\n",
       "        vertical-align: middle;\n",
       "    }\n",
       "\n",
       "    .dataframe tbody tr th {\n",
       "        vertical-align: top;\n",
       "    }\n",
       "\n",
       "    .dataframe thead th {\n",
       "        text-align: right;\n",
       "    }\n",
       "</style>\n",
       "<table border=\"1\" class=\"dataframe\">\n",
       "  <thead>\n",
       "    <tr style=\"text-align: right;\">\n",
       "      <th></th>\n",
       "      <th>Kategori Berita</th>\n",
       "      <th>aa</th>\n",
       "      <th>abah</th>\n",
       "      <th>abai</th>\n",
       "      <th>abar</th>\n",
       "      <th>abasuki</th>\n",
       "      <th>abbas</th>\n",
       "      <th>abdelmadjid</th>\n",
       "      <th>abdullah</th>\n",
       "      <th>abdulrahman</th>\n",
       "      <th>...</th>\n",
       "      <th>zaman</th>\n",
       "      <th>zat</th>\n",
       "      <th>zelenskiy</th>\n",
       "      <th>zelensky</th>\n",
       "      <th>ziarah</th>\n",
       "      <th>zimbabwe</th>\n",
       "      <th>zimbabweakan</th>\n",
       "      <th>zimparks</th>\n",
       "      <th>zionis</th>\n",
       "      <th>zona</th>\n",
       "    </tr>\n",
       "  </thead>\n",
       "  <tbody>\n",
       "    <tr>\n",
       "      <th>0</th>\n",
       "      <td>Nasional</td>\n",
       "      <td>0.0</td>\n",
       "      <td>0.000000</td>\n",
       "      <td>0.0</td>\n",
       "      <td>0.0</td>\n",
       "      <td>0.0</td>\n",
       "      <td>0.0</td>\n",
       "      <td>0.000000</td>\n",
       "      <td>0.0</td>\n",
       "      <td>0.0</td>\n",
       "      <td>...</td>\n",
       "      <td>0.043998</td>\n",
       "      <td>0.0</td>\n",
       "      <td>0.0</td>\n",
       "      <td>0.0</td>\n",
       "      <td>0.0</td>\n",
       "      <td>0.0</td>\n",
       "      <td>0.0</td>\n",
       "      <td>0.0</td>\n",
       "      <td>0.000000</td>\n",
       "      <td>0.0</td>\n",
       "    </tr>\n",
       "    <tr>\n",
       "      <th>1</th>\n",
       "      <td>Internasional</td>\n",
       "      <td>0.0</td>\n",
       "      <td>0.000000</td>\n",
       "      <td>0.0</td>\n",
       "      <td>0.0</td>\n",
       "      <td>0.0</td>\n",
       "      <td>0.0</td>\n",
       "      <td>0.052613</td>\n",
       "      <td>0.0</td>\n",
       "      <td>0.0</td>\n",
       "      <td>...</td>\n",
       "      <td>0.000000</td>\n",
       "      <td>0.0</td>\n",
       "      <td>0.0</td>\n",
       "      <td>0.0</td>\n",
       "      <td>0.0</td>\n",
       "      <td>0.0</td>\n",
       "      <td>0.0</td>\n",
       "      <td>0.0</td>\n",
       "      <td>0.048279</td>\n",
       "      <td>0.0</td>\n",
       "    </tr>\n",
       "    <tr>\n",
       "      <th>2</th>\n",
       "      <td>Internasional</td>\n",
       "      <td>0.0</td>\n",
       "      <td>0.000000</td>\n",
       "      <td>0.0</td>\n",
       "      <td>0.0</td>\n",
       "      <td>0.0</td>\n",
       "      <td>0.0</td>\n",
       "      <td>0.000000</td>\n",
       "      <td>0.0</td>\n",
       "      <td>0.0</td>\n",
       "      <td>...</td>\n",
       "      <td>0.000000</td>\n",
       "      <td>0.0</td>\n",
       "      <td>0.0</td>\n",
       "      <td>0.0</td>\n",
       "      <td>0.0</td>\n",
       "      <td>0.0</td>\n",
       "      <td>0.0</td>\n",
       "      <td>0.0</td>\n",
       "      <td>0.000000</td>\n",
       "      <td>0.0</td>\n",
       "    </tr>\n",
       "    <tr>\n",
       "      <th>3</th>\n",
       "      <td>Nasional</td>\n",
       "      <td>0.0</td>\n",
       "      <td>0.226969</td>\n",
       "      <td>0.0</td>\n",
       "      <td>0.0</td>\n",
       "      <td>0.0</td>\n",
       "      <td>0.0</td>\n",
       "      <td>0.000000</td>\n",
       "      <td>0.0</td>\n",
       "      <td>0.0</td>\n",
       "      <td>...</td>\n",
       "      <td>0.000000</td>\n",
       "      <td>0.0</td>\n",
       "      <td>0.0</td>\n",
       "      <td>0.0</td>\n",
       "      <td>0.0</td>\n",
       "      <td>0.0</td>\n",
       "      <td>0.0</td>\n",
       "      <td>0.0</td>\n",
       "      <td>0.000000</td>\n",
       "      <td>0.0</td>\n",
       "    </tr>\n",
       "    <tr>\n",
       "      <th>4</th>\n",
       "      <td>Internasional</td>\n",
       "      <td>0.0</td>\n",
       "      <td>0.000000</td>\n",
       "      <td>0.0</td>\n",
       "      <td>0.0</td>\n",
       "      <td>0.0</td>\n",
       "      <td>0.0</td>\n",
       "      <td>0.000000</td>\n",
       "      <td>0.0</td>\n",
       "      <td>0.0</td>\n",
       "      <td>...</td>\n",
       "      <td>0.000000</td>\n",
       "      <td>0.0</td>\n",
       "      <td>0.0</td>\n",
       "      <td>0.0</td>\n",
       "      <td>0.0</td>\n",
       "      <td>0.0</td>\n",
       "      <td>0.0</td>\n",
       "      <td>0.0</td>\n",
       "      <td>0.000000</td>\n",
       "      <td>0.0</td>\n",
       "    </tr>\n",
       "    <tr>\n",
       "      <th>...</th>\n",
       "      <td>...</td>\n",
       "      <td>...</td>\n",
       "      <td>...</td>\n",
       "      <td>...</td>\n",
       "      <td>...</td>\n",
       "      <td>...</td>\n",
       "      <td>...</td>\n",
       "      <td>...</td>\n",
       "      <td>...</td>\n",
       "      <td>...</td>\n",
       "      <td>...</td>\n",
       "      <td>...</td>\n",
       "      <td>...</td>\n",
       "      <td>...</td>\n",
       "      <td>...</td>\n",
       "      <td>...</td>\n",
       "      <td>...</td>\n",
       "      <td>...</td>\n",
       "      <td>...</td>\n",
       "      <td>...</td>\n",
       "      <td>...</td>\n",
       "    </tr>\n",
       "    <tr>\n",
       "      <th>95</th>\n",
       "      <td>Nasional</td>\n",
       "      <td>0.0</td>\n",
       "      <td>0.000000</td>\n",
       "      <td>0.0</td>\n",
       "      <td>0.0</td>\n",
       "      <td>0.0</td>\n",
       "      <td>0.0</td>\n",
       "      <td>0.000000</td>\n",
       "      <td>0.0</td>\n",
       "      <td>0.0</td>\n",
       "      <td>...</td>\n",
       "      <td>0.000000</td>\n",
       "      <td>0.0</td>\n",
       "      <td>0.0</td>\n",
       "      <td>0.0</td>\n",
       "      <td>0.0</td>\n",
       "      <td>0.0</td>\n",
       "      <td>0.0</td>\n",
       "      <td>0.0</td>\n",
       "      <td>0.000000</td>\n",
       "      <td>0.0</td>\n",
       "    </tr>\n",
       "    <tr>\n",
       "      <th>96</th>\n",
       "      <td>Internasional</td>\n",
       "      <td>0.0</td>\n",
       "      <td>0.000000</td>\n",
       "      <td>0.0</td>\n",
       "      <td>0.0</td>\n",
       "      <td>0.0</td>\n",
       "      <td>0.0</td>\n",
       "      <td>0.000000</td>\n",
       "      <td>0.0</td>\n",
       "      <td>0.0</td>\n",
       "      <td>...</td>\n",
       "      <td>0.000000</td>\n",
       "      <td>0.0</td>\n",
       "      <td>0.0</td>\n",
       "      <td>0.0</td>\n",
       "      <td>0.0</td>\n",
       "      <td>0.0</td>\n",
       "      <td>0.0</td>\n",
       "      <td>0.0</td>\n",
       "      <td>0.000000</td>\n",
       "      <td>0.0</td>\n",
       "    </tr>\n",
       "    <tr>\n",
       "      <th>97</th>\n",
       "      <td>Internasional</td>\n",
       "      <td>0.0</td>\n",
       "      <td>0.000000</td>\n",
       "      <td>0.0</td>\n",
       "      <td>0.0</td>\n",
       "      <td>0.0</td>\n",
       "      <td>0.0</td>\n",
       "      <td>0.000000</td>\n",
       "      <td>0.0</td>\n",
       "      <td>0.0</td>\n",
       "      <td>...</td>\n",
       "      <td>0.000000</td>\n",
       "      <td>0.0</td>\n",
       "      <td>0.0</td>\n",
       "      <td>0.0</td>\n",
       "      <td>0.0</td>\n",
       "      <td>0.0</td>\n",
       "      <td>0.0</td>\n",
       "      <td>0.0</td>\n",
       "      <td>0.000000</td>\n",
       "      <td>0.0</td>\n",
       "    </tr>\n",
       "    <tr>\n",
       "      <th>98</th>\n",
       "      <td>Nasional</td>\n",
       "      <td>0.0</td>\n",
       "      <td>0.000000</td>\n",
       "      <td>0.0</td>\n",
       "      <td>0.0</td>\n",
       "      <td>0.0</td>\n",
       "      <td>0.0</td>\n",
       "      <td>0.000000</td>\n",
       "      <td>0.0</td>\n",
       "      <td>0.0</td>\n",
       "      <td>...</td>\n",
       "      <td>0.000000</td>\n",
       "      <td>0.0</td>\n",
       "      <td>0.0</td>\n",
       "      <td>0.0</td>\n",
       "      <td>0.0</td>\n",
       "      <td>0.0</td>\n",
       "      <td>0.0</td>\n",
       "      <td>0.0</td>\n",
       "      <td>0.000000</td>\n",
       "      <td>0.0</td>\n",
       "    </tr>\n",
       "    <tr>\n",
       "      <th>99</th>\n",
       "      <td>Internasional</td>\n",
       "      <td>0.0</td>\n",
       "      <td>0.000000</td>\n",
       "      <td>0.0</td>\n",
       "      <td>0.0</td>\n",
       "      <td>0.0</td>\n",
       "      <td>0.0</td>\n",
       "      <td>0.000000</td>\n",
       "      <td>0.0</td>\n",
       "      <td>0.0</td>\n",
       "      <td>...</td>\n",
       "      <td>0.000000</td>\n",
       "      <td>0.0</td>\n",
       "      <td>0.0</td>\n",
       "      <td>0.0</td>\n",
       "      <td>0.0</td>\n",
       "      <td>0.0</td>\n",
       "      <td>0.0</td>\n",
       "      <td>0.0</td>\n",
       "      <td>0.000000</td>\n",
       "      <td>0.0</td>\n",
       "    </tr>\n",
       "  </tbody>\n",
       "</table>\n",
       "<p>100 rows × 3378 columns</p>\n",
       "</div>"
      ],
      "text/plain": [
       "   Kategori Berita   aa      abah  abai  abar  abasuki  abbas  abdelmadjid  \\\n",
       "0         Nasional  0.0  0.000000   0.0   0.0      0.0    0.0     0.000000   \n",
       "1    Internasional  0.0  0.000000   0.0   0.0      0.0    0.0     0.052613   \n",
       "2    Internasional  0.0  0.000000   0.0   0.0      0.0    0.0     0.000000   \n",
       "3         Nasional  0.0  0.226969   0.0   0.0      0.0    0.0     0.000000   \n",
       "4    Internasional  0.0  0.000000   0.0   0.0      0.0    0.0     0.000000   \n",
       "..             ...  ...       ...   ...   ...      ...    ...          ...   \n",
       "95        Nasional  0.0  0.000000   0.0   0.0      0.0    0.0     0.000000   \n",
       "96   Internasional  0.0  0.000000   0.0   0.0      0.0    0.0     0.000000   \n",
       "97   Internasional  0.0  0.000000   0.0   0.0      0.0    0.0     0.000000   \n",
       "98        Nasional  0.0  0.000000   0.0   0.0      0.0    0.0     0.000000   \n",
       "99   Internasional  0.0  0.000000   0.0   0.0      0.0    0.0     0.000000   \n",
       "\n",
       "    abdullah  abdulrahman  ...     zaman  zat  zelenskiy  zelensky  ziarah  \\\n",
       "0        0.0          0.0  ...  0.043998  0.0        0.0       0.0     0.0   \n",
       "1        0.0          0.0  ...  0.000000  0.0        0.0       0.0     0.0   \n",
       "2        0.0          0.0  ...  0.000000  0.0        0.0       0.0     0.0   \n",
       "3        0.0          0.0  ...  0.000000  0.0        0.0       0.0     0.0   \n",
       "4        0.0          0.0  ...  0.000000  0.0        0.0       0.0     0.0   \n",
       "..       ...          ...  ...       ...  ...        ...       ...     ...   \n",
       "95       0.0          0.0  ...  0.000000  0.0        0.0       0.0     0.0   \n",
       "96       0.0          0.0  ...  0.000000  0.0        0.0       0.0     0.0   \n",
       "97       0.0          0.0  ...  0.000000  0.0        0.0       0.0     0.0   \n",
       "98       0.0          0.0  ...  0.000000  0.0        0.0       0.0     0.0   \n",
       "99       0.0          0.0  ...  0.000000  0.0        0.0       0.0     0.0   \n",
       "\n",
       "    zimbabwe  zimbabweakan  zimparks    zionis  zona  \n",
       "0        0.0           0.0       0.0  0.000000   0.0  \n",
       "1        0.0           0.0       0.0  0.048279   0.0  \n",
       "2        0.0           0.0       0.0  0.000000   0.0  \n",
       "3        0.0           0.0       0.0  0.000000   0.0  \n",
       "4        0.0           0.0       0.0  0.000000   0.0  \n",
       "..       ...           ...       ...       ...   ...  \n",
       "95       0.0           0.0       0.0  0.000000   0.0  \n",
       "96       0.0           0.0       0.0  0.000000   0.0  \n",
       "97       0.0           0.0       0.0  0.000000   0.0  \n",
       "98       0.0           0.0       0.0  0.000000   0.0  \n",
       "99       0.0           0.0       0.0  0.000000   0.0  \n",
       "\n",
       "[100 rows x 3378 columns]"
      ]
     },
     "execution_count": 10,
     "metadata": {},
     "output_type": "execute_result"
    }
   ],
   "source": [
    "df_tfidf"
   ]
  },
  {
   "cell_type": "markdown",
   "metadata": {},
   "source": [
    "Proses untuk membuat TF-IDF dan membentuk VSM dalam dataframe."
   ]
  },
  {
   "cell_type": "markdown",
   "metadata": {},
   "source": [
    "## Save Dataset"
   ]
  },
  {
   "cell_type": "code",
   "execution_count": 12,
   "metadata": {},
   "outputs": [],
   "source": [
    "df_tfidf.to_csv(\"data_vsm.csv\", index=False)"
   ]
  }
 ],
 "metadata": {
  "kernelspec": {
   "display_name": "Python 3",
   "language": "python",
   "name": "python3"
  },
  "language_info": {
   "codemirror_mode": {
    "name": "ipython",
    "version": 3
   },
   "file_extension": ".py",
   "mimetype": "text/x-python",
   "name": "python",
   "nbconvert_exporter": "python",
   "pygments_lexer": "ipython3",
   "version": "3.12.2"
  }
 },
 "nbformat": 4,
 "nbformat_minor": 2
}
