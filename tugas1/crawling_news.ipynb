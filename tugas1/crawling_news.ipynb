{
 "cells": [
  {
   "cell_type": "markdown",
   "metadata": {},
   "source": [
    "# Crawling Web Berita CNN Indonesia\n"
   ]
  },
  {
   "cell_type": "markdown",
   "metadata": {},
   "source": [
    "## Apa itu Crawling?\n"
   ]
  },
  {
   "cell_type": "markdown",
   "metadata": {},
   "source": [
    "Crawling merupakan proses search engine untuk menemukan konten atau sesuatu situs halaman yang ada. Dalam bahasa kerennya crawling atau web crawling merupakan proses dimana search engine mengirimkan bot atau robot yang disebut (crawler atau spider) yang digunakan untuk menemukan konten-konten yang ada.\n",
    "\n",
    "Yang dimaksud konten yaitu bervariasi, mulai dari halaman website yang saya lakukan ini, kemudian gambar, video, dokumen, dan lain sebagainya. Seperti halnya laba-laba, datang ke sebuah jaring dan melihat beberapa halaman website, kemudian mengikuti link yang terdapat di halaman website tersebut untuk mencari URL yang baru.\n",
    "\n",
    "Ketika ada pengguna yang mencari sebuah konten di search engine dengan keyword tertentu, search engine akan mencarinya di indeks dan menentukan konten mana yang paling sesuai untuk pengguna tersebut.\n"
   ]
  },
  {
   "cell_type": "markdown",
   "metadata": {},
   "source": [
    "## Proses Crawling\n"
   ]
  },
  {
   "cell_type": "markdown",
   "metadata": {},
   "source": [
    "### Tool atau Library\n"
   ]
  },
  {
   "cell_type": "code",
   "execution_count": 9,
   "metadata": {},
   "outputs": [],
   "source": [
    "# Import Library yang dibutuhkan\n",
    "from bs4 import BeautifulSoup as bs\n",
    "import pandas as pd\n",
    "from tqdm import tqdm"
   ]
  },
  {
   "cell_type": "markdown",
   "metadata": {},
   "source": [
    "- **Request** digunakan untuk mengambil html/http dari sebuah website.\n",
    "- **BeautifulSoup** berfungsi untuk mengambil data dari html/xml.\n",
    "- **Time** berfungsi untuk memberikan jeda ketika ingin berpindah halaman.\n",
    "- **Pandas** digunakan untuk membuat dataframe agar mudah dibaca.\n",
    "- **tqdm** Untuk mentracking proses program\n"
   ]
  },
  {
   "cell_type": "markdown",
   "metadata": {},
   "source": [
    "### Code Program\n"
   ]
  },
  {
   "cell_type": "markdown",
   "metadata": {},
   "source": [
    "#### Fungsi Clean_text()\n"
   ]
  },
  {
   "cell_type": "code",
   "execution_count": 10,
   "metadata": {},
   "outputs": [],
   "source": [
    "def clean_text(text):\n",
    "\treturn text.strip()"
   ]
  },
  {
   "cell_type": "markdown",
   "metadata": {},
   "source": [
    "Fungsi untuk membersihkan text yang tidak diinginkan, atau mengganggu.\n"
   ]
  },
  {
   "cell_type": "markdown",
   "metadata": {},
   "source": [
    "#### Fungsi scrape_news()\n"
   ]
  },
  {
   "cell_type": "code",
   "execution_count": 11,
   "metadata": {},
   "outputs": [],
   "source": [
    "def scrape_news(soup):\n",
    "\tberita = {}\n",
    "\ttexts = []\n",
    "\t# TODO:\n",
    "\t# ada struktur aneh https://www.cnnindonesia.com/olahraga/20240830134615-142-1139388/live-report-timnas-indonesia-vs-thailand-u-20\n",
    "\t\n",
    "\tberita[\"judul\"] = soup.title.text\n",
    "\n",
    "\tif 'FOTO:' in berita[\"judul\"]:\n",
    "\t\tdiv_content = soup.find(\"div\", class_=\"detail-text text-cnn_black text-sm grow min-w-0\")\n",
    "\t\tif div_content:\n",
    "\t\t\tfull_text = div_content.get_text(strip=True)\n",
    "\t\t\ttext = full_text.split('--', 1)[-1]\n",
    "\t\t\ttext = text.split('var article')[0].strip()\n",
    "\n",
    "\t\t\tcleaned_text = clean_text(text)\n",
    "\t\t\ttexts.append(cleaned_text)\n",
    "\n",
    "\t\tberita[\"tanggal\"] = soup.find(\"div\", class_=\"container !w-[1100px] overscroll-none\").find(\"div\", class_=\"text-cnn_grey text-sm\").text\n",
    "\n",
    "\telse:\n",
    "\t\ttext_list = soup.find(\"div\", class_=\"detail-text text-cnn_black text-sm grow min-w-0\")\n",
    "\t\tfor text in text_list.find_all(\"p\"):\n",
    "\t\t\tif 'para_caption' not in text.get('class', []):\n",
    "\t\t\t\tcleaned_text = clean_text(text.text)\n",
    "\t\t\t\ttexts.append(cleaned_text)\n",
    "\n",
    "\t\tberita[\"tanggal\"] = soup.find(\"div\", class_=\"container !w-[1100px] overscroll-none\").find(\"div\", class_=\"text-cnn_grey text-sm mb-4\").text\n",
    "\n",
    "\tberita[\"isi\"] = \"\\n\".join(texts)\n",
    "\tberita[\"kategori\"] = soup.find(\"meta\", attrs={'name': 'dtk:namakanal'})['content']\n",
    "\treturn berita"
   ]
  },
  {
   "cell_type": "markdown",
   "metadata": {},
   "source": [
    "Pada fungsi ini berisikan proses pembedahan dan juga pengambilan data pada sebuah website. Mengambil data sesuai struktur HTML/web yang ingin diambil datanya.\n"
   ]
  },
  {
   "cell_type": "code",
   "execution_count": 12,
   "metadata": {},
   "outputs": [],
   "source": [
    "def hide_ads(driver):\n",
    "\ttry:\n",
    "\t\tjs_code = \"\"\"\n",
    "\t\t\t\tvar ads = document.querySelectorAll(\n",
    "\t\t\t\t\t\t'.ad-container, .banner-ad, [data-ad-unit], .ads-slot, [data-google-query-id], .bottom_banner_bar, .bn_skin, imp-css, mgbox, ad_unit, videoAdUi' // Add more selectors if necessary\n",
    "\t\t\t\t);\n",
    "\t\t\t\tfor (var i = 0; i < ads.length; i++) {\n",
    "\t\t\t\t\t\tads[i].style.display = 'none';  // Hide the elements\n",
    "\t\t\t\t}\n",
    "\n",
    "\t\t\t\t// Remove elements from partner networks (example for MGID, adjust as needed)\n",
    "\t\t\t\tvar mgid_widgets = document.querySelectorAll('[data-type=\"_mgwidget\"]');\n",
    "\t\t\t\tmgid_widgets.forEach(widget => widget.remove());\n",
    "\n",
    "\t\t\t\t// Remove revive adserver\n",
    "\t\t\t\tvar rv_widgets = document.querySelectorAll('[data-revive-zoneid]');\n",
    "\t\t\t\trv_widgets.forEach(widget => widget.remove());\n",
    "\n",
    "\t\t\t\t// Remove elements with specific ids (customize as needed)\n",
    "\t\t\t\tvar billboard_ad = document.getElementById('billboard_ad');\n",
    "\t\t\t\tif (billboard_ad) { billboard_ad.remove(); }\n",
    "\t\t\"\"\"\n",
    "\t\tdriver.execute_script(js_code) # execute js code\n",
    "\texcept Exception as e:\n",
    "\t\t print(f\"Error executing JavaScript: {e}\")"
   ]
  },
  {
   "cell_type": "markdown",
   "metadata": {},
   "source": [
    "#### Fungsi get_html()\n"
   ]
  },
  {
   "cell_type": "code",
   "execution_count": 13,
   "metadata": {},
   "outputs": [],
   "source": [
    "from selenium import webdriver\n",
    "from selenium.webdriver.chrome.options import Options\n",
    "\n",
    "def get_html(url, driver):\n",
    "\t\ttry:\n",
    "\t\t\tdriver.get(url)\n",
    "\t\t\thide_ads(driver)\n",
    "\t\t\thtml = driver.page_source\n",
    "\t\t\treturn bs(html, \"html5lib\")\n",
    "\t\t\n",
    "\t\texcept Exception as e:\n",
    "\t\t\tprint(f\"Error fetching URL: {e}\")\n",
    "\t\t\treturn None "
   ]
  },
  {
   "cell_type": "markdown",
   "metadata": {},
   "source": [
    "Fungsi get_html dengan parameter url digunakan untuk mengambil response atau isi html dari web. Untuk mengambil response tersebut dibutuhkan library request, dan juga BeautifulSoup untuk mendapatkan isi html.\n"
   ]
  },
  {
   "cell_type": "markdown",
   "metadata": {},
   "source": [
    "#### Fungsi get_news()\n"
   ]
  },
  {
   "cell_type": "code",
   "execution_count": 14,
   "metadata": {},
   "outputs": [],
   "source": [
    "def get_news(soup):\n",
    "\tcontainer = soup.find(\"div\", class_=\"flex flex-col gap-5\")\n",
    "\tnews_list = container.find_all(\"article\", class_=\"flex-grow\")\n",
    "\treturn news_list"
   ]
  },
  {
   "cell_type": "markdown",
   "metadata": {},
   "source": [
    "Fungsi get_news berfungsi untuk mengambil semua berita yang ada pada web, yang kemudian didapat kumpulan url berita yang ada pada halaman web.\n"
   ]
  },
  {
   "cell_type": "markdown",
   "metadata": {},
   "source": [
    "#### Main Crawling\n"
   ]
  },
  {
   "cell_type": "code",
   "execution_count": 15,
   "metadata": {},
   "outputs": [],
   "source": [
    "def main(nasional: int, internasional: int):\n",
    "\toptions = Options()\n",
    "\tprefs = {\n",
    "\t\t\"profile.managed_default_content_settings.images\": 2,  # Disable images\n",
    "\t\t\"profile.managed_default_content_settings.stylesheet\": 2,  # Disable CSS\n",
    "\t}\n",
    "\tprofile_path = \"C:/Users/LAB SISTER/AppData/Local/Google/Chrome/User Data/Profile 7\"\n",
    "\toptions.add_experimental_option(\"prefs\", prefs)\n",
    "\toptions.add_argument(f\"--user-data-dir={profile_path}\")\n",
    "\toptions.add_argument(\"--headless=new\") # Run in headless mode\n",
    "\tdriver = webdriver.Chrome(options=options)\n",
    "\n",
    "\turl = [\"https://www.cnnindonesia.com/nasional/indeks/3/?page=\", \"https://www.cnnindonesia.com/internasional/indeks/6/?page=\"]\n",
    "\t# url = [\"https://www.cnnindonesia.com/indeks/2/\"]\n",
    "\tnews = []\n",
    "\n",
    "\tnasional_count = 0\n",
    "\tinternasional_count = 0\n",
    "\n",
    "\ttry:\n",
    "\t\twhile url:\n",
    "\t\t\turl_now = url.pop()\n",
    "\t\t\tcount = 1 # - n\n",
    "\t\t\thalaman = int(get_html(url_now, driver).find(\"div\", class_=\"flex gap-5 my-8 items-center justify-center undefined\").find_all(\"a\")[-2].text)\n",
    "\n",
    "\t\t\tfor _ in range(halaman):\n",
    "\t\t\t\tpage = f\"{url_now}{count}\" \n",
    "\t\t\t\tsoup = get_html(page, driver)\n",
    "\t\t\t\tnews_list = get_news(soup)\n",
    "\t\t\t\t\n",
    "\t\t\t\tfor item in tqdm(news_list, desc=f\"Processing page {count}\"):\n",
    "\t\t\t\t\tnews_url = item.find('a')['href']\n",
    "\t\t\t\t\t\n",
    "\t\t\t\t\ttry:\n",
    "\t\t\t\t\t\tresult = scrape_news(get_html(news_url, driver))\n",
    "\n",
    "\t\t\t\t\t\tif result:\n",
    "\t\t\t\t\t\t\tif nasional_count >= nasional and internasional_count >= internasional:\n",
    "\t\t\t\t\t\t\t\treturn news\n",
    "\n",
    "\t\t\t\t\t\t\tif result['kategori'] == 'nasional' and nasional_count < nasional:\n",
    "\t\t\t\t\t\t\t\tnews.append(result)\n",
    "\t\t\t\t\t\t\t\tnasional_count += 1\n",
    "\n",
    "\t\t\t\t\t\t\telif result['kategori'] == 'internasional' and internasional_count < internasional:\n",
    "\t\t\t\t\t\t\t\tnews.append(result)\n",
    "\t\t\t\t\t\t\t\tinternasional_count += 1\n",
    "\t\t\t\t\texcept Exception as e:\n",
    "\t\t\t\t\t\tprint(f\"Error fetching news: {e}\")\n",
    "\t\t\t\t\t\tcontinue\n",
    "\t\t\t\t\t\t\n",
    "\t\t\t\t\t\n",
    "\t\t\t\tcount+=1\n",
    "\t\t\t\tif (nasional_count >= nasional and 'nasional' in url_now) or (internasional_count >= internasional and 'internasional' in url_now):\n",
    "\t\t\t\t\tbreak\n",
    "\tfinally:\n",
    "\t\tdriver.quit()\n",
    "\n",
    "\treturn news"
   ]
  },
  {
   "cell_type": "markdown",
   "metadata": {},
   "source": [
    "Menyiapkan link/base url web berita yang ingin dicrawling, terdapat beberapa fungsi yang dipanggil yang sudah dibuat sebelumnya untuk mengambil informasi atau berita pada halaman website. Dalam code tersebut terdapat beberapa tahapan seperti fungsi:\n",
    "\n",
    "- get_html\n",
    "- get_news\n",
    "- scrape_news\n"
   ]
  },
  {
   "cell_type": "markdown",
   "metadata": {},
   "source": [
    "#### Main\n"
   ]
  },
  {
   "cell_type": "code",
   "execution_count": 16,
   "metadata": {},
   "outputs": [
    {
     "name": "stderr",
     "output_type": "stream",
     "text": [
      "Processing page 1: 100%|██████████| 10/10 [00:37<00:00,  3.77s/it]\n",
      "Processing page 2: 100%|██████████| 10/10 [01:23<00:00,  8.40s/it]\n",
      "Processing page 3: 100%|██████████| 10/10 [01:25<00:00,  8.58s/it]\n",
      "Processing page 4: 100%|██████████| 10/10 [01:45<00:00, 10.54s/it]\n",
      "Processing page 5: 100%|██████████| 10/10 [02:56<00:00, 17.67s/it]\n",
      "Processing page 1: 100%|██████████| 10/10 [02:25<00:00, 14.56s/it]\n",
      "Processing page 2: 100%|██████████| 10/10 [02:35<00:00, 15.51s/it]\n",
      "Processing page 3: 100%|██████████| 10/10 [02:27<00:00, 14.76s/it]\n",
      "Processing page 4: 100%|██████████| 10/10 [02:33<00:00, 15.37s/it]\n",
      "Processing page 5: 100%|██████████| 10/10 [02:45<00:00, 16.51s/it]\n"
     ]
    }
   ],
   "source": [
    "news = main(nasional=50, internasional=50)"
   ]
  },
  {
   "cell_type": "markdown",
   "metadata": {},
   "source": [
    "Menjalankan program yang sudah dibuat dengan input berapa halaman yang ingin diambil.\n"
   ]
  },
  {
   "cell_type": "markdown",
   "metadata": {},
   "source": [
    "### Convert Dataframe\n"
   ]
  },
  {
   "cell_type": "code",
   "execution_count": 17,
   "metadata": {},
   "outputs": [],
   "source": [
    "df = pd.DataFrame.from_dict(news)\n",
    "df\n",
    "df.to_csv(\"data_100new.csv\", index=False)"
   ]
  },
  {
   "cell_type": "code",
   "execution_count": 18,
   "metadata": {},
   "outputs": [
    {
     "name": "stdout",
     "output_type": "stream",
     "text": [
      "Presiden Rusia Vladimir Putin menyebut akan tetap melanjutkan eksperimen rudal balistik dan hipersonik ke Ukraina.\n",
      "Rusia menguji coba rudal hipersonik tersebut ke wilayah Ukraina, pada Kamis (21/11), menandai babak baru dalam konflik antara kedua negara. Penembakan rudal tersebut dilakukan setelah Gedung Putih mengizinkan Ukraina untuk menembakkan rudal jarak jauhnya ke Rusia.\n",
      "\n",
      "Dalam sebuah pertemuan dengan pimpinan kementerian pertahanan Rusia, Putin mengklaim bahwa rudal tersebut tidak dapat dicegat oleh pertahanan udara. Ia juga mengatakan Rusia akan memulai produksi massal senjata barunya ini.\n",
      "\"Saat ini tidak ada cara untuk melawan rudal semacam itu, tidak ada cara untuk mencegatnya, di dunia. Dan saya akan menekankan sekali lagi: Kami akan terus menguji sistem terbaru,\" kata Putin, dikutip dari CNN.\n",
      "Putin juga menyebut Rusia sedang mengembangkan beberapa sistem persenjataan serupa yang akan diuji coba lebih lanjut.\n",
      "\n",
      "\n",
      "\"Berdasarkan hasil uji coba, senjata-senjata ini juga akan mulai diproduksi. Artinya, kami sedang mengembangkan seluruh lini sistem jarak menengah dan jarak pendek,\" katanya.\n",
      "Lebih lanjut, pernyataan Putin ini muncul sehari setelah Rusia menembakkan rudal \"Oreshnik\" ke kota Dnipro, Ukraina.\n",
      "\n",
      "Presiden Ukraina Volodymyr Zelensky mengutuk serangan tersebut, dan mengatakan dalam sebuah video yang diposting di Telegram bahwa \"hari ini, tetangga kita yang gila itu sekali lagi menunjukkan siapa dia sebenarnya dan bagaimana dia merendahkan martabat, kebebasan, dan kehidupan manusia pada umumnya.\"\n",
      "Zelensky mengatakan pada Jumat (22/11), Ukraina mengadakan pertemuan dengan para sekutunya untuk mengembangkan \"sistem pertahanan udara yang baru\" untuk menanggapi ancaman baru dari Rusia.\n",
      "Terpisah, dua pejabat AS dan seorang pejabat Barat mengatakan rudal balistik \"eksperimental\" tersebut membawa beberapa hulu ledak, yang mungkin merupakan pertama kalinya senjata semacam itu digunakan dalam perang.\n",
      "\n",
      "Perdana Menteri Polandia Donald Tusk, yang merupakan sekutu penting Ukraina, mengatakan konflik ini \"memasuki tahap yang menentukan.\"\n",
      "NATO dan Ukraina dijadwalkan akan melakukan pembicaraan pekan depan setelah adanya penembakan rudal eksperimental oleh Rusia tersebut.\n"
     ]
    }
   ],
   "source": [
    "print(df['isi'][0])"
   ]
  }
 ],
 "metadata": {
  "kernelspec": {
   "display_name": "Python 3",
   "language": "python",
   "name": "python3"
  },
  "language_info": {
   "codemirror_mode": {
    "name": "ipython",
    "version": 3
   },
   "file_extension": ".py",
   "mimetype": "text/x-python",
   "name": "python",
   "nbconvert_exporter": "python",
   "pygments_lexer": "ipython3",
   "version": "3.12.2"
  }
 },
 "nbformat": 4,
 "nbformat_minor": 2
}
