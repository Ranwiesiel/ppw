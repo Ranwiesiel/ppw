{
 "cells": [
  {
   "cell_type": "markdown",
   "metadata": {},
   "source": [
    "# TF-IDF & Vector Space Model"
   ]
  },
  {
   "cell_type": "markdown",
   "metadata": {},
   "source": [
    "## Apa itu VSM (Vector Space Model)"
   ]
  },
  {
   "cell_type": "markdown",
   "metadata": {},
   "source": [
    "Vector Space Model (VSM) adalah kerangka kerja matriks yang digunakan dalam temu kembali informasi dan pemrosesan bahasa alami (NLP) untuk merepresentasikan dan menganalisis data visual. VSM sangat penting dalam penggalian teks, pencarian dokumen, dan tugas-tugas pembelajaran mesin berbasis teks seperti klasifikasi dokumen, pencarian informasi, dan analisis kemiripan teks."
   ]
  },
  {
   "cell_type": "markdown",
   "metadata": {},
   "source": [
    "![image.png](https://i0.wp.com/spotintelligence.com/wp-content/uploads/2023/09/vector-space-model.jpg?resize=960%2C540&ssl=1)"
   ]
  },
  {
   "cell_type": "markdown",
   "metadata": {},
   "source": [
    "Setiap dimensi berhubungan dengan term yang unik, sementara dokumen dan query dapat direpresentasikan sebagai vektor di dalam ruang tersebut."
   ]
  },
  {
   "cell_type": "markdown",
   "metadata": {},
   "source": [
    "## Term Frequency-Inverse Document Frequency (TF-IDF)"
   ]
  },
  {
   "cell_type": "markdown",
   "metadata": {},
   "source": [
    "TF-IDF adalah singkatan dari Term Frequency Inverse Document Frequency. Hal ini dapat didefinisikan sebagai perhitungan seberapa relevan sebuah kata dalam kumpulan atau corpus terhadap sebuah teks. Nilai relevansi meningkat secara relatif terhadap berapa kali sebuah kata muncul di dalam teks, namun dikompensasi oleh frekuensi kata di dalam corpus (kumpulan data)."
   ]
  },
  {
   "cell_type": "markdown",
   "metadata": {},
   "source": [
    "## Term Frequency"
   ]
  },
  {
   "cell_type": "markdown",
   "metadata": {},
   "source": [
    "Pada dokumen d, frekuensi merepresentasikan jumlah kemunculan kata t. Oleh karena itu, kita dapat melihat bahwa frekuensi akan menjadi lebih relevan ketika sebuah kata muncul dalam teks, yang mana hal ini bersifat relatif. Karena urutan istilah tidak signifikan, kita dapat menggunakan vektor untuk mendeskripsikan teks dalam kumpulan model term. Untuk setiap istilah tertentu dalam teks, ada sebuah entri dengan nilai yang merupakan frekuensi term."
   ]
  },
  {
   "cell_type": "markdown",
   "metadata": {},
   "source": [
    "**tf(t,d) = count of t in d / number of words in d**"
   ]
  },
  {
   "cell_type": "markdown",
   "metadata": {},
   "source": [
    "## Inverse Document Frequency"
   ]
  },
  {
   "cell_type": "markdown",
   "metadata": {},
   "source": [
    "Pada dasarnya, ini menguji seberapa relevan kata tersebut. Tujuan utama dari pencarian ini adalah untuk menemukan dokumen yang sesuai dengan pencarian. Karena tf menganggap semua istilah sama pentingnya, maka frekuensi term tidak hanya dapat digunakan untuk mengukur bobot term dalam dokumen. Pertama, cari frekuensi dokumen dari suatu istilah t dengan menghitung jumlah dokumen yang mengandung term tersebut:"
   ]
  },
  {
   "cell_type": "markdown",
   "metadata": {},
   "source": [
    "**idf(t) = log(N/ df(t))**"
   ]
  },
  {
   "cell_type": "markdown",
   "metadata": {},
   "source": [
    "Penjelasan:<br>\n",
    "**df(t)** = **N(t)**<br>\n",
    "dimana<br>\n",
    "**df(t)** = **Document frequency of a term t**<br>\n",
    "**N(t)** = **Number of documents containing the term t**<br>"
   ]
  },
  {
   "cell_type": "markdown",
   "metadata": {},
   "source": [
    "## TF-IDF (Term Frequency-Inverse Document Frequency)"
   ]
  },
  {
   "cell_type": "markdown",
   "metadata": {},
   "source": [
    "**tf-idf(t, d) = tf(t, d) * idf(t)**"
   ]
  },
  {
   "cell_type": "markdown",
   "metadata": {},
   "source": [
    "## Proses TF-IDF dan menjadikannya VSM (Vector Space Model)"
   ]
  },
  {
   "cell_type": "markdown",
   "metadata": {},
   "source": [
    "### Import Library/Tool yang dibutuhkan"
   ]
  },
  {
   "cell_type": "code",
   "execution_count": 71,
   "metadata": {},
   "outputs": [
    {
     "name": "stderr",
     "output_type": "stream",
     "text": [
      "[nltk_data] Downloading package stopwords to C:\\Users\\LAB\n",
      "[nltk_data]     SISTER\\AppData\\Roaming\\nltk_data...\n",
      "[nltk_data]   Package stopwords is already up-to-date!\n",
      "[nltk_data] Downloading package punkt_tab to C:\\Users\\LAB\n",
      "[nltk_data]     SISTER\\AppData\\Roaming\\nltk_data...\n",
      "[nltk_data]   Package punkt_tab is already up-to-date!\n"
     ]
    }
   ],
   "source": [
    "# Library untuk data manipulation\n",
    "import pandas as pd\n",
    "from tqdm import tqdm\n",
    "import re\n",
    "import string\n",
    "\n",
    "# Library untuk text preprocessing\n",
    "import nltk\n",
    "from Sastrawi.Stemmer.StemmerFactory import StemmerFactory\n",
    "from nltk.tokenize import word_tokenize\n",
    "from nltk.corpus import stopwords\n",
    "nltk.download('stopwords')\n",
    "nltk.download('punkt_tab')\n",
    "\n",
    "# Library untuk text vectorization/TF-IDF\n",
    "from sklearn.feature_extraction.text import TfidfVectorizer"
   ]
  },
  {
   "cell_type": "markdown",
   "metadata": {},
   "source": [
    "* **pandas** digunakan untuk membuat dataframe agar mudah dibaca.\n",
    "* **tqdm** Untuk mentracking proses program.\n",
    "* **re** (regular expression) digunakan untuk mengenali pola kata/kalimat.\n",
    "* **nltk** (natural language toolkit) berfungsi untuk melakukan proses yang berkaitan dengan bahasa (teks).\n",
    "* **sklearn** digunakan dalam pemrosesan data untuk kebutuhan machine learning atau data science. Dalam tugas ini, menggunakan TfidfTransformer untuk menghitung TF-IDF.\n",
    "* **sastrawi** berfungsi untuk membersihkan mengurangi kata-kata imbuhan menjadi kata basic (sastrawi untuk stemming bahasa Indonesia)."
   ]
  },
  {
   "cell_type": "markdown",
   "metadata": {},
   "source": [
    "### Import data berita CSV"
   ]
  },
  {
   "cell_type": "code",
   "execution_count": 72,
   "metadata": {},
   "outputs": [
    {
     "data": {
      "text/html": [
       "<div>\n",
       "<style scoped>\n",
       "    .dataframe tbody tr th:only-of-type {\n",
       "        vertical-align: middle;\n",
       "    }\n",
       "\n",
       "    .dataframe tbody tr th {\n",
       "        vertical-align: top;\n",
       "    }\n",
       "\n",
       "    .dataframe thead th {\n",
       "        text-align: right;\n",
       "    }\n",
       "</style>\n",
       "<table border=\"1\" class=\"dataframe\">\n",
       "  <thead>\n",
       "    <tr style=\"text-align: right;\">\n",
       "      <th></th>\n",
       "      <th>judul</th>\n",
       "      <th>isi</th>\n",
       "      <th>tanggal</th>\n",
       "      <th>kategori</th>\n",
       "    </tr>\n",
       "  </thead>\n",
       "  <tbody>\n",
       "    <tr>\n",
       "      <th>0</th>\n",
       "      <td>Putin Dukung Kamala Harris: Tawanya Menular, A...</td>\n",
       "      <td>Presiden Rusia Vladimir Putinbergurau bahwa di...</td>\n",
       "      <td>Jumat, 06 Sep 2024 14:31 WIB</td>\n",
       "      <td>Internasional</td>\n",
       "    </tr>\n",
       "    <tr>\n",
       "      <th>1</th>\n",
       "      <td>Tinggalkan RI, Paus Fransiskus Twit Perpisahan...</td>\n",
       "      <td>Pemimpin Gereja Katolik seluruh dunia Paus Fra...</td>\n",
       "      <td>Jumat, 06 Sep 2024 14:01 WIB</td>\n",
       "      <td>Internasional</td>\n",
       "    </tr>\n",
       "    <tr>\n",
       "      <th>2</th>\n",
       "      <td>Pamit ke Menag Yaqut di Bandara, Paus Fransisk...</td>\n",
       "      <td>Pemimpin Gereja Katolik seluruh dunia Paus Fra...</td>\n",
       "      <td>Jumat, 06 Sep 2024 13:30 WIB</td>\n",
       "      <td>Internasional</td>\n",
       "    </tr>\n",
       "    <tr>\n",
       "      <th>3</th>\n",
       "      <td>FOTO: Sampai Jumpa Lagi, Paus Fransiskus      ...</td>\n",
       "      <td>...</td>\n",
       "      <td>Jumat, 06 Sep 2024 13:00 WIB</td>\n",
       "      <td>Internasional</td>\n",
       "    </tr>\n",
       "    <tr>\n",
       "      <th>4</th>\n",
       "      <td>Paus Fransiskus Pilih Nasi Goreng Jadi Menu di...</td>\n",
       "      <td>Pemimpin Gereja Katolik seluruh dunia, Paus Fr...</td>\n",
       "      <td>Jumat, 06 Sep 2024 12:24 WIB</td>\n",
       "      <td>Internasional</td>\n",
       "    </tr>\n",
       "    <tr>\n",
       "      <th>...</th>\n",
       "      <td>...</td>\n",
       "      <td>...</td>\n",
       "      <td>...</td>\n",
       "      <td>...</td>\n",
       "    </tr>\n",
       "    <tr>\n",
       "      <th>95</th>\n",
       "      <td>Rekayasa Lalin saat Paus Fransiskus Misa Akbar...</td>\n",
       "      <td>Kepolisian melakukan rekayasa lalu lintas di s...</td>\n",
       "      <td>Kamis, 05 Sep 2024 07:45 WIB</td>\n",
       "      <td>Nasional</td>\n",
       "    </tr>\n",
       "    <tr>\n",
       "      <th>96</th>\n",
       "      <td>VIDEO: Kaesang Bungkam saat Ditanya soal Jet P...</td>\n",
       "      <td>Ketua Umum PSI Kaesang Pangarep irit bicara sa...</td>\n",
       "      <td>Kamis, 05 Sep 2024 07:33 WIB</td>\n",
       "      <td>Nasional</td>\n",
       "    </tr>\n",
       "    <tr>\n",
       "      <th>97</th>\n",
       "      <td>Misa Akbar Paus di GBK Hari Ini, Pemprov Imbau...</td>\n",
       "      <td>Penjabat (Pj) DKI JakartaHeru Budi Hartono men...</td>\n",
       "      <td>Kamis, 05 Sep 2024 07:19 WIB</td>\n",
       "      <td>Nasional</td>\n",
       "    </tr>\n",
       "    <tr>\n",
       "      <th>98</th>\n",
       "      <td>Nyaris Adu Jotos dengan Silfester Matutina, Ch...</td>\n",
       "      <td>Juru Bicara PDIPChico Hakim menjelaskan soal m...</td>\n",
       "      <td>Kamis, 05 Sep 2024 07:15 WIB</td>\n",
       "      <td>Nasional</td>\n",
       "    </tr>\n",
       "    <tr>\n",
       "      <th>99</th>\n",
       "      <td>Kaesang Akhirnya Muncul, Tapi Hanya Tersenyum ...</td>\n",
       "      <td>Ketua Umum PSI Kaesang Pangarepakhirnya muncul...</td>\n",
       "      <td>Kamis, 05 Sep 2024 06:59 WIB</td>\n",
       "      <td>Nasional</td>\n",
       "    </tr>\n",
       "  </tbody>\n",
       "</table>\n",
       "<p>100 rows × 4 columns</p>\n",
       "</div>"
      ],
      "text/plain": [
       "                                                judul  \\\n",
       "0   Putin Dukung Kamala Harris: Tawanya Menular, A...   \n",
       "1   Tinggalkan RI, Paus Fransiskus Twit Perpisahan...   \n",
       "2   Pamit ke Menag Yaqut di Bandara, Paus Fransisk...   \n",
       "3   FOTO: Sampai Jumpa Lagi, Paus Fransiskus      ...   \n",
       "4   Paus Fransiskus Pilih Nasi Goreng Jadi Menu di...   \n",
       "..                                                ...   \n",
       "95  Rekayasa Lalin saat Paus Fransiskus Misa Akbar...   \n",
       "96  VIDEO: Kaesang Bungkam saat Ditanya soal Jet P...   \n",
       "97  Misa Akbar Paus di GBK Hari Ini, Pemprov Imbau...   \n",
       "98  Nyaris Adu Jotos dengan Silfester Matutina, Ch...   \n",
       "99  Kaesang Akhirnya Muncul, Tapi Hanya Tersenyum ...   \n",
       "\n",
       "                                                  isi  \\\n",
       "0   Presiden Rusia Vladimir Putinbergurau bahwa di...   \n",
       "1   Pemimpin Gereja Katolik seluruh dunia Paus Fra...   \n",
       "2   Pemimpin Gereja Katolik seluruh dunia Paus Fra...   \n",
       "3                                                 ...   \n",
       "4   Pemimpin Gereja Katolik seluruh dunia, Paus Fr...   \n",
       "..                                                ...   \n",
       "95  Kepolisian melakukan rekayasa lalu lintas di s...   \n",
       "96  Ketua Umum PSI Kaesang Pangarep irit bicara sa...   \n",
       "97  Penjabat (Pj) DKI JakartaHeru Budi Hartono men...   \n",
       "98  Juru Bicara PDIPChico Hakim menjelaskan soal m...   \n",
       "99  Ketua Umum PSI Kaesang Pangarepakhirnya muncul...   \n",
       "\n",
       "                            tanggal       kategori  \n",
       "0    Jumat, 06 Sep 2024 14:31 WIB    Internasional  \n",
       "1    Jumat, 06 Sep 2024 14:01 WIB    Internasional  \n",
       "2    Jumat, 06 Sep 2024 13:30 WIB    Internasional  \n",
       "3   Jumat, 06 Sep 2024 13:00 WIB     Internasional  \n",
       "4    Jumat, 06 Sep 2024 12:24 WIB    Internasional  \n",
       "..                              ...            ...  \n",
       "95   Kamis, 05 Sep 2024 07:45 WIB         Nasional  \n",
       "96   Kamis, 05 Sep 2024 07:33 WIB         Nasional  \n",
       "97   Kamis, 05 Sep 2024 07:19 WIB         Nasional  \n",
       "98   Kamis, 05 Sep 2024 07:15 WIB         Nasional  \n",
       "99   Kamis, 05 Sep 2024 06:59 WIB         Nasional  \n",
       "\n",
       "[100 rows x 4 columns]"
      ]
     },
     "execution_count": 72,
     "metadata": {},
     "output_type": "execute_result"
    }
   ],
   "source": [
    "data = pd.read_csv(\"data_100.csv\")\n",
    "data.columns = data.columns.str.strip()\n",
    "data"
   ]
  },
  {
   "cell_type": "markdown",
   "metadata": {},
   "source": [
    "Import data berita csv yang telah disimpan sebelumnya,<br>\n",
    "dan membersihkan whitespace pada col header."
   ]
  },
  {
   "cell_type": "markdown",
   "metadata": {},
   "source": [
    "### Mengacak data"
   ]
  },
  {
   "cell_type": "code",
   "execution_count": 73,
   "metadata": {},
   "outputs": [],
   "source": [
    "data = data.sample(frac = 1, ignore_index=True)"
   ]
  },
  {
   "cell_type": "markdown",
   "metadata": {},
   "source": [
    "Mengacak data yang sebelumnya berdasarkan kategori 50:50, menjadi acak-acak."
   ]
  },
  {
   "cell_type": "markdown",
   "metadata": {},
   "source": [
    "### Fungsi clean_text()"
   ]
  },
  {
   "cell_type": "code",
   "execution_count": 74,
   "metadata": {},
   "outputs": [],
   "source": [
    "def clean_text(text):\n",
    "\ttext = re.sub(r'((www\\.[^\\s]+)|(https?://[^\\s]+))', ' ', text) # Menghapus https* and www*\n",
    "\ttext = re.sub(r'@[^\\s]+', ' ', text) # Menghapus username\n",
    "\ttext = re.sub(r'[\\s]+', ' ', text) # Menghapus tambahan spasi\n",
    "\ttext = re.sub(r'#([^\\s]+)', ' ', text) # Menghapus hashtags\n",
    "\ttext = re.sub(r'rt', ' ', text) # Menghapus retweet\n",
    "\ttext = text.translate(str.maketrans(\"\",\"\",string.punctuation)) # Menghapus tanda baca\n",
    "\ttext = re.sub(r'\\d', ' ', text) # Menghapus angka\n",
    "\ttext = text.lower()\n",
    "\ttext = text.encode('ascii','ignore').decode('utf-8') #Menghapus ASCII dan unicode\n",
    "\ttext = re.sub(r'[^\\x00-\\x7f]',r'', text)\n",
    "\ttext = text.replace('\\n','') #Menghapus baris baru\n",
    "\ttext = text.strip()\n",
    "\treturn text"
   ]
  },
  {
   "cell_type": "markdown",
   "metadata": {},
   "source": [
    "Fungsi ini untuk membersihkan text, lebih tepatnya membersihkan teks seperti; menghapus hastag, unicode, dsb."
   ]
  },
  {
   "cell_type": "markdown",
   "metadata": {},
   "source": [
    "### Fungsi stemming_indo()"
   ]
  },
  {
   "cell_type": "code",
   "execution_count": 75,
   "metadata": {},
   "outputs": [],
   "source": [
    "def stemming_indo(text):\n",
    "\tfactory = StemmerFactory()\n",
    "\tstemmer = factory.create_stemmer()\n",
    "\ttext = ' '.join(stemmer.stem(word) for word in text)\n",
    "\treturn text"
   ]
  },
  {
   "cell_type": "markdown",
   "metadata": {},
   "source": [
    "Fungsi ini digunakan untuk menstemming atau membersihkan kata seperti:\n",
    "\n",
    "katanya = kata<br>\n",
    "menggunakan = guna"
   ]
  },
  {
   "cell_type": "markdown",
   "metadata": {},
   "source": [
    "### Fungsi clean_stopword()"
   ]
  },
  {
   "cell_type": "code",
   "execution_count": 76,
   "metadata": {},
   "outputs": [],
   "source": [
    "def clean_stopword(tokens):\n",
    "\tlistStopword =  set(stopwords.words('indonesian'))\n",
    "\tremoved = []\n",
    "\tfor t in tokens:\n",
    "\t\tif t not in listStopword:\n",
    "\t\t\tremoved.append(t)\n",
    "\treturn removed"
   ]
  },
  {
   "cell_type": "markdown",
   "metadata": {},
   "source": [
    "Fungsi untuk membuang kata yang tidak digunakan seperti:\n",
    "\n",
    "di, dan, dsb."
   ]
  },
  {
   "cell_type": "markdown",
   "metadata": {},
   "source": [
    "### Memisahkan data train & test"
   ]
  },
  {
   "cell_type": "code",
   "execution_count": 77,
   "metadata": {},
   "outputs": [
    {
     "name": "stdout",
     "output_type": "stream",
     "text": [
      "80\n",
      "20\n"
     ]
    },
    {
     "data": {
      "text/html": [
       "<div>\n",
       "<style scoped>\n",
       "    .dataframe tbody tr th:only-of-type {\n",
       "        vertical-align: middle;\n",
       "    }\n",
       "\n",
       "    .dataframe tbody tr th {\n",
       "        vertical-align: top;\n",
       "    }\n",
       "\n",
       "    .dataframe thead th {\n",
       "        text-align: right;\n",
       "    }\n",
       "</style>\n",
       "<table border=\"1\" class=\"dataframe\">\n",
       "  <thead>\n",
       "    <tr style=\"text-align: right;\">\n",
       "      <th></th>\n",
       "      <th>judul</th>\n",
       "      <th>isi</th>\n",
       "      <th>tanggal</th>\n",
       "      <th>kategori</th>\n",
       "    </tr>\n",
       "  </thead>\n",
       "  <tbody>\n",
       "    <tr>\n",
       "      <th>0</th>\n",
       "      <td>Anggota TNI Diperiksa Denpom Usai Teror Rumah ...</td>\n",
       "      <td>AnggotaTNI yang diduga melakukan penyerangan d...</td>\n",
       "      <td>Kamis, 05 Sep 2024 12:54 WIB</td>\n",
       "      <td>Nasional</td>\n",
       "    </tr>\n",
       "    <tr>\n",
       "      <th>1</th>\n",
       "      <td>FOTO: Kunjungan Bersejarah Paus Fransiskus di ...</td>\n",
       "      <td>...</td>\n",
       "      <td>Kamis, 05 Sep 2024 19:07 WIB</td>\n",
       "      <td>Internasional</td>\n",
       "    </tr>\n",
       "    <tr>\n",
       "      <th>2</th>\n",
       "      <td>Pengurus Istiqlal Jelaskan Paus Fransiskus Tak...</td>\n",
       "      <td>Wakil Kepala Bidang Penyelenggara Peribadatan ...</td>\n",
       "      <td>Kamis, 05 Sep 2024 17:03 WIB</td>\n",
       "      <td>Internasional</td>\n",
       "    </tr>\n",
       "    <tr>\n",
       "      <th>3</th>\n",
       "      <td>Mahfud Bandingkan Dugaan Gratifikasi Kaesang d...</td>\n",
       "      <td>Mantan Menteri Koordinator Bidang Politik, Huk...</td>\n",
       "      <td>Kamis, 05 Sep 2024 13:29 WIB</td>\n",
       "      <td>Nasional</td>\n",
       "    </tr>\n",
       "    <tr>\n",
       "      <th>4</th>\n",
       "      <td>Jokowi: Umat Katolik RI Sukacita Misa Suci Ber...</td>\n",
       "      <td>Presiden Joko Widodo(Jokowi) menyebut umat Kat...</td>\n",
       "      <td>Kamis, 05 Sep 2024 17:52 WIB</td>\n",
       "      <td>Internasional</td>\n",
       "    </tr>\n",
       "    <tr>\n",
       "      <th>...</th>\n",
       "      <td>...</td>\n",
       "      <td>...</td>\n",
       "      <td>...</td>\n",
       "      <td>...</td>\n",
       "    </tr>\n",
       "    <tr>\n",
       "      <th>75</th>\n",
       "      <td>20 Anggota DPRD Bangkalan-Sampang Gadai SK unt...</td>\n",
       "      <td>Sebanyak 20 anggota Dewan Perwakilan Rakyat Da...</td>\n",
       "      <td>Kamis, 05 Sep 2024 19:57 WIB</td>\n",
       "      <td>Nasional</td>\n",
       "    </tr>\n",
       "    <tr>\n",
       "      <th>76</th>\n",
       "      <td>Apakah KPK Bisa Usut Dugaan Gratifikasi Jet Pr...</td>\n",
       "      <td>Ketua Umum Partai Solidaritas Indonesia (PSI) ...</td>\n",
       "      <td>Kamis, 05 Sep 2024 12:41 WIB</td>\n",
       "      <td>Nasional</td>\n",
       "    </tr>\n",
       "    <tr>\n",
       "      <th>77</th>\n",
       "      <td>VIDEO: Kaesang Bungkam saat Ditanya soal Jet P...</td>\n",
       "      <td>Ketua Umum PSI Kaesang Pangarep irit bicara sa...</td>\n",
       "      <td>Kamis, 05 Sep 2024 07:33 WIB</td>\n",
       "      <td>Nasional</td>\n",
       "    </tr>\n",
       "    <tr>\n",
       "      <th>78</th>\n",
       "      <td>Gazalba Saleh Dituntut 15 Tahun Bui di Kasus G...</td>\n",
       "      <td>Hakim agung nonaktif Gazalba Saleh dituntut de...</td>\n",
       "      <td>Kamis, 05 Sep 2024 14:09 WIB</td>\n",
       "      <td>Nasional</td>\n",
       "    </tr>\n",
       "    <tr>\n",
       "      <th>79</th>\n",
       "      <td>FOTO: Tumpah Ruah Ribuan Umat Katolik di GBK I...</td>\n",
       "      <td>...</td>\n",
       "      <td>Kamis, 05 Sep 2024 15:50 WIB</td>\n",
       "      <td>Internasional</td>\n",
       "    </tr>\n",
       "  </tbody>\n",
       "</table>\n",
       "<p>80 rows × 4 columns</p>\n",
       "</div>"
      ],
      "text/plain": [
       "                                                judul  \\\n",
       "0   Anggota TNI Diperiksa Denpom Usai Teror Rumah ...   \n",
       "1   FOTO: Kunjungan Bersejarah Paus Fransiskus di ...   \n",
       "2   Pengurus Istiqlal Jelaskan Paus Fransiskus Tak...   \n",
       "3   Mahfud Bandingkan Dugaan Gratifikasi Kaesang d...   \n",
       "4   Jokowi: Umat Katolik RI Sukacita Misa Suci Ber...   \n",
       "..                                                ...   \n",
       "75  20 Anggota DPRD Bangkalan-Sampang Gadai SK unt...   \n",
       "76  Apakah KPK Bisa Usut Dugaan Gratifikasi Jet Pr...   \n",
       "77  VIDEO: Kaesang Bungkam saat Ditanya soal Jet P...   \n",
       "78  Gazalba Saleh Dituntut 15 Tahun Bui di Kasus G...   \n",
       "79  FOTO: Tumpah Ruah Ribuan Umat Katolik di GBK I...   \n",
       "\n",
       "                                                  isi  \\\n",
       "0   AnggotaTNI yang diduga melakukan penyerangan d...   \n",
       "1                                                 ...   \n",
       "2   Wakil Kepala Bidang Penyelenggara Peribadatan ...   \n",
       "3   Mantan Menteri Koordinator Bidang Politik, Huk...   \n",
       "4   Presiden Joko Widodo(Jokowi) menyebut umat Kat...   \n",
       "..                                                ...   \n",
       "75  Sebanyak 20 anggota Dewan Perwakilan Rakyat Da...   \n",
       "76  Ketua Umum Partai Solidaritas Indonesia (PSI) ...   \n",
       "77  Ketua Umum PSI Kaesang Pangarep irit bicara sa...   \n",
       "78  Hakim agung nonaktif Gazalba Saleh dituntut de...   \n",
       "79                                                ...   \n",
       "\n",
       "                            tanggal       kategori  \n",
       "0    Kamis, 05 Sep 2024 12:54 WIB         Nasional  \n",
       "1   Kamis, 05 Sep 2024 19:07 WIB     Internasional  \n",
       "2    Kamis, 05 Sep 2024 17:03 WIB    Internasional  \n",
       "3    Kamis, 05 Sep 2024 13:29 WIB         Nasional  \n",
       "4    Kamis, 05 Sep 2024 17:52 WIB    Internasional  \n",
       "..                              ...            ...  \n",
       "75   Kamis, 05 Sep 2024 19:57 WIB         Nasional  \n",
       "76   Kamis, 05 Sep 2024 12:41 WIB         Nasional  \n",
       "77   Kamis, 05 Sep 2024 07:33 WIB         Nasional  \n",
       "78   Kamis, 05 Sep 2024 14:09 WIB         Nasional  \n",
       "79  Kamis, 05 Sep 2024 15:50 WIB     Internasional  \n",
       "\n",
       "[80 rows x 4 columns]"
      ]
     },
     "execution_count": 77,
     "metadata": {},
     "output_type": "execute_result"
    }
   ],
   "source": [
    "training = data.iloc[:80]\n",
    "testing = data.iloc[80:]\n",
    "print(len(training))\n",
    "print(len(testing))\n",
    "training"
   ]
  },
  {
   "cell_type": "markdown",
   "metadata": {},
   "source": [
    "Memisahkan data untuk training dan juga testing, yaitu perbandingan 80:20 dengan menggunakan data yang sudah diacak sebelumnya."
   ]
  },
  {
   "cell_type": "markdown",
   "metadata": {},
   "source": [
    "### Proses preprosesing text setiap dokumen"
   ]
  },
  {
   "cell_type": "code",
   "execution_count": 78,
   "metadata": {},
   "outputs": [
    {
     "name": "stderr",
     "output_type": "stream",
     "text": [
      "  0%|          | 0/80 [00:00<?, ?it/s]"
     ]
    },
    {
     "name": "stderr",
     "output_type": "stream",
     "text": [
      "100%|██████████| 80/80 [00:01<00:00, 40.99it/s]\n",
      "100%|██████████| 20/20 [00:00<00:00, 41.91it/s]\n"
     ]
    }
   ],
   "source": [
    "def preprocess_text(content):\n",
    "\tresult = []\n",
    "\tfor text in tqdm(content):\n",
    "\t\tcleaned_text = clean_text(text)\n",
    "\t\ttokens = nltk.tokenize.word_tokenize(cleaned_text)\n",
    "\t\tcleaned_stopword = clean_stopword(tokens)\n",
    "\t\tstemmed_text = stemming_indo(cleaned_stopword)\n",
    "\t\tresult.append(stemmed_text)\n",
    "\treturn result\n",
    "\n",
    "train = preprocess_text(training['isi'])\n",
    "test = preprocess_text(testing['isi'])"
   ]
  },
  {
   "cell_type": "markdown",
   "metadata": {},
   "source": [
    "Proses untuk mempersiapkan teks pada setiap dokumen yang diproses menggunakan fungsi-fungsi yang sudah dibuat sebelumnya, yang selanjutnya akan di tf-idf dan vsm."
   ]
  },
  {
   "cell_type": "markdown",
   "metadata": {},
   "source": [
    "### Proses TF-IDF dan pembuatan VSM"
   ]
  },
  {
   "cell_type": "code",
   "execution_count": 79,
   "metadata": {},
   "outputs": [],
   "source": [
    "def tfidf_vsm(data, original_data):\n",
    "\ttfidf = TfidfVectorizer()\n",
    "\ttfidf_matrix = tfidf.fit_transform(data)\n",
    "\tfeature_names = tfidf.get_feature_names_out()\n",
    "\tdf_tfidf = pd.DataFrame(tfidf_matrix.toarray(), columns=feature_names)\n",
    "\tdf_tfidf.insert(0, 'Kategori Berita', original_data['kategori'])\n",
    "\treturn df_tfidf\n",
    "\n",
    "df_train = tfidf_vsm(train, training)\n",
    "df_test = tfidf_vsm(test, testing)"
   ]
  },
  {
   "cell_type": "markdown",
   "metadata": {},
   "source": [
    "Proses untuk membuat TF-IDF dan membentuk VSM dalam dataframe."
   ]
  },
  {
   "cell_type": "markdown",
   "metadata": {},
   "source": [
    "## Save CSV"
   ]
  },
  {
   "cell_type": "code",
   "execution_count": 80,
   "metadata": {},
   "outputs": [],
   "source": [
    "df_train.to_csv(\"data_train.csv\", index=False)\n",
    "df_train.to_csv(\"data_test.csv\", index=False)"
   ]
  }
 ],
 "metadata": {
  "kernelspec": {
   "display_name": "Python 3",
   "language": "python",
   "name": "python3"
  },
  "language_info": {
   "codemirror_mode": {
    "name": "ipython",
    "version": 3
   },
   "file_extension": ".py",
   "mimetype": "text/x-python",
   "name": "python",
   "nbconvert_exporter": "python",
   "pygments_lexer": "ipython3",
   "version": "3.12.2"
  }
 },
 "nbformat": 4,
 "nbformat_minor": 2
}
